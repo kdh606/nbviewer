{
 "cells": [
  {
   "cell_type": "code",
   "execution_count": null,
   "metadata": {},
   "outputs": [
    {
     "name": "stdout",
     "output_type": "stream",
     "text": [
      "3+7 = 10\n",
      "2.5+6 = 8.5\n",
      "2.8+3.4 = 6.199999999999999\n",
      "'6'+'3' = '63'\n"
     ]
    }
   ],
   "source": [
    "# C321079 김동하 파이썬프로그래밍 데이터연산\n",
    "# 기본\n",
    "\n",
    "'''산술 연산'''\n",
    "print(f'{3+7 = }')        \n",
    "print(f'{2.5+6 = }')      \n",
    "print(f'{2.8+3.4 = }')    \n",
    "print(f'{'6'+'3' = }')    "
   ]
  },
  {
   "cell_type": "code",
   "execution_count": 32,
   "metadata": {},
   "outputs": [
    {
     "name": "stdout",
     "output_type": "stream",
     "text": [
      "unsupported operand type(s) for +: 'int' and 'str'\n"
     ]
    }
   ],
   "source": [
    "try:\n",
    "    print(f'{2+'3' = }')  \n",
    "except Exception as e:\n",
    "    print(e)"
   ]
  },
  {
   "cell_type": "code",
   "execution_count": 33,
   "metadata": {},
   "outputs": [
    {
     "name": "stdout",
     "output_type": "stream",
     "text": [
      "2-9 = -7\n",
      "2.0-3 = -1.0\n",
      "2.4-6.0 = -3.6\n"
     ]
    }
   ],
   "source": [
    "print(f'{2-9 = }')         \n",
    "print(f'{2.0-3 = }')       \n",
    "print(f'{2.4-6.0 = }') "
   ]
  },
  {
   "cell_type": "code",
   "execution_count": 34,
   "metadata": {},
   "outputs": [
    {
     "name": "stdout",
     "output_type": "stream",
     "text": [
      "2*3 = 6\n",
      "8.7*2 = 17.4\n"
     ]
    }
   ],
   "source": [
    "print(f'{2*3 = }')         \n",
    "print(f'{8.7*2 = }')       "
   ]
  },
  {
   "cell_type": "code",
   "execution_count": 35,
   "metadata": {},
   "outputs": [
    {
     "name": "stdout",
     "output_type": "stream",
     "text": [
      "2/5 = 0.4\n",
      "8.0/3 = 2.6666666666666665\n",
      "1.0/2.5 = 0.4\n"
     ]
    }
   ],
   "source": [
    "print(f'{2/5 = }')         \n",
    "print(f'{8.0/3 = }')       \n",
    "print(f'{1.0/2.5 = }')  "
   ]
  },
  {
   "cell_type": "code",
   "execution_count": 36,
   "metadata": {},
   "outputs": [
    {
     "name": "stdout",
     "output_type": "stream",
     "text": [
      "2\n",
      "81\n",
      "1\n"
     ]
    }
   ],
   "source": [
    "print(5//2)               \n",
    "print(3**4)\n",
    "print (5%2) "
   ]
  },
  {
   "cell_type": "code",
   "execution_count": 37,
   "metadata": {},
   "outputs": [
    {
     "name": "stdout",
     "output_type": "stream",
     "text": [
      "K + K= '가나디가나디'\n",
      "T + T = [1, 2, 3, 1, 2, 3]\n",
      "K * 3 = '가나디가나디가나디'\n",
      "T * 3 = [1, 2, 3, 1, 2, 3, 1, 2, 3]\n"
     ]
    }
   ],
   "source": [
    "K = '가나디'                 \n",
    "T = [1, 2, 3]           \n",
    "\n",
    "print(f'{K + K= }')  \n",
    "\n",
    "print(f'{T + T = }')  \n",
    "\n",
    "print(f'{K * 3 = }')      \n",
    "\n",
    "print(f'{T * 3 = }')    \n"
   ]
  },
  {
   "cell_type": "code",
   "execution_count": 38,
   "metadata": {},
   "outputs": [
    {
     "name": "stdout",
     "output_type": "stream",
     "text": [
      "2==3 = False\n",
      "2True\n",
      "2>3  = False\n",
      "2<3  = True\n",
      "2>=3 = False\n",
      "2<=3 = True\n"
     ]
    }
   ],
   "source": [
    "'''비교 연산'''\n",
    "print(f'{2==3 = }')   \n",
    "print(f'{2!=3 = }')   \n",
    "print(f'{2>3  = }')   \n",
    "print(f'{2<3  = }')   \n",
    "print(f'{2>=3 = }')   \n",
    "print(f'{2<=3 = }') "
   ]
  },
  {
   "cell_type": "code",
   "execution_count": 39,
   "metadata": {},
   "outputs": [
    {
     "name": "stdout",
     "output_type": "stream",
     "text": [
      "(var_y == [1, 2, 3]) = True\n",
      "(var_y == (1, 2, 3)) = False\n",
      "(var_y == [1, 2]) = False\n",
      "(var_y != [1, 2]) = True\n",
      "(var_y > [1, 2]) = True\n",
      "(var_y < [1, 2]) = False\n"
     ]
    }
   ],
   "source": [
    "var_y = [1, 2, 3]\n",
    "\n",
    "print(f'{(var_y == [1, 2, 3]) = }')   \n",
    "print(f'{(var_y == (1, 2, 3)) = }')   \n",
    "print(f'{(var_y == [1, 2]) = }')      \n",
    "print(f'{(var_y != [1, 2]) = }')    \n",
    "print(f'{(var_y > [1, 2]) = }')       \n",
    "print(f'{(var_y < [1, 2]) = }')      "
   ]
  },
  {
   "cell_type": "code",
   "execution_count": null,
   "metadata": {},
   "outputs": [
    {
     "name": "stdout",
     "output_type": "stream",
     "text": [
      "var_y = False\n",
      "(var_x and var_y) = False\n",
      "(var_x or var_y) = True\n"
     ]
    }
   ],
   "source": [
    "'''논리 연산'''\n",
    "var_x = True\n",
    "\n",
    "var_y = (10 > 20)\n",
    "\n",
    "print(f'{var_y = }')              \n",
    "print(f'{(var_x and var_y) = }')  \n",
    "print(f'{(var_x or var_y) = }')   "
   ]
  },
  {
   "cell_type": "code",
   "execution_count": 41,
   "metadata": {},
   "outputs": [
    {
     "name": "stdout",
     "output_type": "stream",
     "text": [
      "(2==3) and (2!=3) = False\n"
     ]
    }
   ],
   "source": [
    "print(f'{(2==3) and (2!=3) = }')"
   ]
  },
  {
   "cell_type": "code",
   "execution_count": null,
   "metadata": {},
   "outputs": [
    {
     "name": "stdout",
     "output_type": "stream",
     "text": [
      "(1 in var_y) = True\n",
      "(\"1\" in var_y) = False\n",
      "(4 in var_y) = False\n",
      "(1 not in var_y) = False\n",
      "(4 not in var_y) = True\n"
     ]
    }
   ],
   "source": [
    "'''멤버십 연산'''\n",
    "var_y = [1, 2, 3]\n",
    "\n",
    "print(f'{(1 in var_y) = }')\n",
    "print(f'{(\"1\" in var_y) = }')\n",
    "print(f'{(4 in var_y) = }')\n",
    "print(f'{(1 not in var_y) = }')\n",
    "print(f'{(4 not in var_y) = }')"
   ]
  },
  {
   "cell_type": "code",
   "execution_count": null,
   "metadata": {},
   "outputs": [
    {
     "name": "stdout",
     "output_type": "stream",
     "text": [
      "(x==10)=True\n",
      "(x is 10)=True\n"
     ]
    },
    {
     "name": "stderr",
     "output_type": "stream",
     "text": [
      "<>:5: SyntaxWarning: \"is\" with 'int' literal. Did you mean \"==\"?\n",
      "<>:5: SyntaxWarning: \"is\" with 'int' literal. Did you mean \"==\"?\n",
      "C:\\Users\\kimdo\\AppData\\Local\\Temp\\ipykernel_9892\\278227055.py:5: SyntaxWarning: \"is\" with 'int' literal. Did you mean \"==\"?\n",
      "  print(f'{(x is 10)=}')\n"
     ]
    }
   ],
   "source": [
    "'''식별 연산'''\n",
    "x=10\n",
    "\n",
    "print(f'{(x==10)=}')\n",
    "\n",
    "print(f'{(x is 10)=}')"
   ]
  },
  {
   "cell_type": "code",
   "execution_count": 45,
   "metadata": {},
   "outputs": [
    {
     "name": "stdout",
     "output_type": "stream",
     "text": [
      "False\n",
      "True\n",
      "True\n",
      "False\n"
     ]
    }
   ],
   "source": [
    "x=10\n",
    "y=10.0\n",
    "z=x\n",
    "print(x is y)\n",
    "print(x is z)\n",
    "print(x is not y)\n",
    "print(x is not z)"
   ]
  },
  {
   "cell_type": "code",
   "execution_count": null,
   "metadata": {},
   "outputs": [
    {
     "name": "stdout",
     "output_type": "stream",
     "text": [
      "11\n",
      "10\n",
      "20\n",
      "10.0\n",
      "1.0\n",
      "1.0\n",
      "1.0\n"
     ]
    }
   ],
   "source": [
    "'''복합 대입 연산'''\n",
    "var_x = 1\n",
    "var_x += 10; print(var_x)\n",
    "var_x -= 1; print(var_x)\n",
    "var_x *= 2; print(var_x)\n",
    "var_x /= 2; print(var_x)\n",
    "var_x //= 10; print(var_x)\n",
    "var_x %= 2; print(var_x)\n",
    "var_x **= 8; print(var_x)\n"
   ]
  },
  {
   "cell_type": "code",
   "execution_count": 54,
   "metadata": {},
   "outputs": [
    {
     "name": "stdout",
     "output_type": "stream",
     "text": [
      "13\n",
      "256\n",
      "True\n",
      "False\n"
     ]
    }
   ],
   "source": [
    "'''연산의 중첩'''\n",
    "print(2**3+5)\n",
    "print(2**(3+5))\n",
    "print(2+3<=4*5)\n",
    "print(not 2+3<=(5+3))"
   ]
  },
  {
   "cell_type": "code",
   "execution_count": 55,
   "metadata": {},
   "outputs": [
    {
     "name": "stdout",
     "output_type": "stream",
     "text": [
      "당신의 BMI는 17.30입니다.\n",
      "저체중입니다.\n"
     ]
    }
   ],
   "source": [
    "# 응용\n",
    "# bmi 계산기를 만들어 보았다.\n",
    "\n",
    "#사용자로부터 키와 몸무게 입력 받기기\n",
    "height_cm = float(input(\"당신의 키를 입력하세요 (cm): \"))\n",
    "weight_kg = float(input(\"당신의 몸무게를 입력하세요 (kg): \"))\n",
    "\n",
    "# 키를 미터로 변환\n",
    "height_m = height_cm / 100\n",
    "\n",
    "# BMI 계산 공식\n",
    "bmi = weight_kg / (height_m ** 2)\n",
    "\n",
    "# 결과 출력\n",
    "print(f\"당신의 BMI는 {bmi:.2f}입니다.\")\n",
    "\n",
    "# if 조건문을 사용하여 BMI 상태 판별\n",
    "if bmi < 18.5:\n",
    "    print(\"저체중입니다.\")\n",
    "elif 18.5 <= bmi < 23:\n",
    "    print(\"정상 체중입니다.\")\n",
    "elif 23 <= bmi < 25:\n",
    "    print(\"과체중입니다.\")\n",
    "else:\n",
    "    print(\"비만입니다.\")"
   ]
  }
 ],
 "metadata": {
  "kernelspec": {
   "display_name": "base",
   "language": "python",
   "name": "python3"
  },
  "language_info": {
   "codemirror_mode": {
    "name": "ipython",
    "version": 3
   },
   "file_extension": ".py",
   "mimetype": "text/x-python",
   "name": "python",
   "nbconvert_exporter": "python",
   "pygments_lexer": "ipython3",
   "version": "3.12.8"
  }
 },
 "nbformat": 4,
 "nbformat_minor": 2
}
