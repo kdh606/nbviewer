{
 "cells": [
  {
   "cell_type": "code",
   "execution_count": null,
   "metadata": {},
   "outputs": [
    {
     "name": "stdout",
     "output_type": "stream",
     "text": [
      "X=12345\n",
      "type(X)=<class 'int'>\n"
     ]
    }
   ],
   "source": [
    "# C321079 김동하 파이썬프로그래밍 데이터유형\n",
    "#기본\n",
    "\n",
    "'''데이터 유형의 확인'''\n",
    "X=12345\n",
    "print(f'{X=}\\n{type(X)=}')"
   ]
  },
  {
   "cell_type": "code",
   "execution_count": 47,
   "metadata": {},
   "outputs": [
    {
     "name": "stdout",
     "output_type": "stream",
     "text": [
      "abcde\n",
      "type(Y)=<class 'str'>\n"
     ]
    }
   ],
   "source": [
    "Y='abcde'\n",
    "print(f'{Y}\\n{type(Y)=}')"
   ]
  },
  {
   "cell_type": "code",
   "execution_count": 48,
   "metadata": {},
   "outputs": [
    {
     "name": "stdout",
     "output_type": "stream",
     "text": [
      "list=[12345, 'abcde']\n",
      "type(list)=<class 'list'>\n"
     ]
    }
   ],
   "source": [
    "list=[X,Y]\n",
    "print(f'{list=}\\n{type(list)=}')"
   ]
  },
  {
   "cell_type": "code",
   "execution_count": 49,
   "metadata": {},
   "outputs": [
    {
     "name": "stdout",
     "output_type": "stream",
     "text": [
      "tuple=(12345, 'abcde')\n",
      "type(tuple)=<class 'tuple'>\n"
     ]
    }
   ],
   "source": [
    "tuple=(X,Y)\n",
    "print(f'{tuple=}\\n{type(tuple)=}')\n"
   ]
  },
  {
   "cell_type": "code",
   "execution_count": 50,
   "metadata": {},
   "outputs": [
    {
     "name": "stdout",
     "output_type": "stream",
     "text": [
      "dict={'name': 'kim dongha', 'id': 120516}\n",
      "type(dict)=<class 'dict'>\n"
     ]
    }
   ],
   "source": [
    "dict={'name':'kim dongha','id':120516}\n",
    "print(f'{dict=}\\n{type(dict)=}')\n"
   ]
  },
  {
   "cell_type": "code",
   "execution_count": 51,
   "metadata": {},
   "outputs": [
    {
     "name": "stdout",
     "output_type": "stream",
     "text": [
      "none=None\n",
      "type(none)=<class 'NoneType'>\n"
     ]
    }
   ],
   "source": [
    "none=None\n",
    "print(f'{none=}\\n{type(none)=}')"
   ]
  },
  {
   "cell_type": "code",
   "execution_count": null,
   "metadata": {},
   "outputs": [
    {
     "name": "stdout",
     "output_type": "stream",
     "text": [
      "['__abs__', '__add__', '__and__', '__bool__', '__ceil__', '__class__', '__delattr__', '__dir__', '__divmod__', '__doc__', '__eq__', '__float__', '__floor__', '__floordiv__', '__format__', '__ge__', '__getattribute__', '__getnewargs__', '__getstate__', '__gt__', '__hash__', '__index__', '__init__', '__init_subclass__', '__int__', '__invert__', '__le__', '__lshift__', '__lt__', '__mod__', '__mul__', '__ne__', '__neg__', '__new__', '__or__', '__pos__', '__pow__', '__radd__', '__rand__', '__rdivmod__', '__reduce__', '__reduce_ex__', '__repr__', '__rfloordiv__', '__rlshift__', '__rmod__', '__rmul__', '__ror__', '__round__', '__rpow__', '__rrshift__', '__rshift__', '__rsub__', '__rtruediv__', '__rxor__', '__setattr__', '__sizeof__', '__str__', '__sub__', '__subclasshook__', '__truediv__', '__trunc__', '__xor__', 'as_integer_ratio', 'bit_count', 'bit_length', 'conjugate', 'denominator', 'from_bytes', 'imag', 'is_integer', 'numerator', 'real', 'to_bytes']\n"
     ]
    }
   ],
   "source": [
    "'''개체 속성과 메서드 확인'''\n",
    "print(dir(X))"
   ]
  },
  {
   "cell_type": "code",
   "execution_count": 53,
   "metadata": {},
   "outputs": [
    {
     "name": "stdout",
     "output_type": "stream",
     "text": [
      "X.real=12345\n",
      "X.bit_length()=14\n"
     ]
    }
   ],
   "source": [
    "print(f'{X.real=}')\n",
    "\n",
    "print(f'{X.bit_length()=}')"
   ]
  },
  {
   "cell_type": "code",
   "execution_count": null,
   "metadata": {},
   "outputs": [
    {
     "name": "stdout",
     "output_type": "stream",
     "text": [
      "Before: X=[123, 'abcd']\n",
      "After: X=[456, 'abcd']\n"
     ]
    }
   ],
   "source": [
    "'''mutable'''\n",
    "X=[123,'abcd']\n",
    "print(f'Before: {X=}')\n",
    "X[0]=456\n",
    "print(f'After: {X=}')"
   ]
  },
  {
   "cell_type": "code",
   "execution_count": 55,
   "metadata": {},
   "outputs": [
    {
     "name": "stdout",
     "output_type": "stream",
     "text": [
      "Before:dict={'name': 'kim dongha', 'id': 120516}\n",
      "After:dict={'name': 'kim younghee', 'id': 120516}\n"
     ]
    }
   ],
   "source": [
    "dict={'name':'kim dongha','id':120516}\n",
    "print(f'Before:{dict=}')\n",
    "dict['name']='kim younghee'\n",
    "print(f'After:{dict=}')"
   ]
  },
  {
   "cell_type": "code",
   "execution_count": null,
   "metadata": {},
   "outputs": [
    {
     "name": "stdout",
     "output_type": "stream",
     "text": [
      "Before:R='abcde'\n",
      "Error:'str' object does not support item assignment\n",
      "After:R='abcde'\n"
     ]
    }
   ],
   "source": [
    "'''immutable'''\n",
    "R='abcde'\n",
    "print(f'Before:{R=}')\n",
    "try:\n",
    "    R[1]='2'\n",
    "except TypeError as T:\n",
    "    print(f'Error:{T}')\n",
    "\n",
    "print(f'After:{R=}')\n"
   ]
  },
  {
   "cell_type": "code",
   "execution_count": null,
   "metadata": {},
   "outputs": [
    {
     "name": "stdout",
     "output_type": "stream",
     "text": [
      "12345는 <class 'int'>\n",
      "------------------------------\n",
      "12345.0는 <class 'float'>\n",
      "------------------------------\n",
      "12345는 <class 'str'>\n",
      "------------------------------\n",
      "True는 <class 'bool'>\n",
      "------------------------------\n"
     ]
    }
   ],
   "source": [
    "'''자료형 변환'''\n",
    "var_x = 12345\n",
    "\n",
    "print(f'{var_x}는 {type(var_x)}', end='\\n'+'-'*30+'\\n')\n",
    "\n",
    "var_y = float(var_x)\n",
    "\n",
    "print(f'{var_y}는 {type(var_y)}', end='\\n'+'-'*30+'\\n')\n",
    "\n",
    "var_y = str(var_x)\n",
    "\n",
    "print(f'{var_y}는 {type(var_y)}', end='\\n'+'-'*30+'\\n')\n",
    "\n",
    "var_y = bool(var_x)\n",
    "\n",
    "print(f'{var_y}는 {type(var_y)}', end='\\n'+'-'*30+'\\n')"
   ]
  },
  {
   "cell_type": "code",
   "execution_count": 58,
   "metadata": {},
   "outputs": [
    {
     "name": "stdout",
     "output_type": "stream",
     "text": [
      "range(-10, 0, 2)는 <class 'range'>\n",
      "------------------------------\n",
      "[-10, -8, -6, -4, -2]는 <class 'list'>\n",
      "------------------------------\n",
      "(-10, -8, -6, -4, -2)는 <class 'tuple'>\n",
      "------------------------------\n",
      "{-10, -8, -6, -4, -2}는 <class 'set'>\n"
     ]
    }
   ],
   "source": [
    "del list, tuple\n",
    "var_x = range(-10, 0, 2)\n",
    "\n",
    "print(f'{var_x}는 {type(var_x)}', end='\\n'+'-'*30+'\\n')\n",
    "\n",
    "var_y = list(var_x)\n",
    "\n",
    "print(f'{var_y}는 {type(var_y)}', end='\\n'+'-'*30+'\\n')\n",
    "\n",
    "var_y = tuple(var_x)\n",
    "\n",
    "print(f'{var_y}는 {type(var_y)}', end='\\n'+'-'*30+'\\n')\n",
    "\n",
    "var_y = set(var_x)\n",
    "\n",
    "print(f'{var_y}는 {type(var_y)}')\n",
    "\n"
   ]
  },
  {
   "cell_type": "code",
   "execution_count": 59,
   "metadata": {},
   "outputs": [
    {
     "name": "stdout",
     "output_type": "stream",
     "text": [
      "abcdabcd는 <class 'str'>\n",
      "------------------------------\n",
      "['a', 'b', 'c', 'd', 'a', 'b', 'c', 'd']는 <class 'list'>\n",
      "------------------------------\n",
      "('a', 'b', 'c', 'd', 'a', 'b', 'c', 'd')는 <class 'tuple'>\n",
      "------------------------------\n",
      "{'d', 'b', 'c', 'a'}는 <class 'set'>\n",
      "------------------------------\n"
     ]
    }
   ],
   "source": [
    "var_x = \"abcdabcd\"\n",
    "\n",
    "print(f'{var_x}는 {type(var_x)}', end='\\n'+'-'*30+'\\n')\n",
    "\n",
    "var_y = list(var_x)\n",
    "print(f'{var_y}는 {type(var_y)}', end='\\n'+'-'*30+'\\n')\n",
    "\n",
    "var_y = tuple(var_x)\n",
    "print(f'{var_y}는 {type(var_y)}', end='\\n'+'-'*30+'\\n')\n",
    "\n",
    "var_y = set(var_x)\n",
    "print(f'{var_y}는 {type(var_y)}', end='\\n'+'-'*30+'\\n')"
   ]
  },
  {
   "cell_type": "code",
   "execution_count": 64,
   "metadata": {},
   "outputs": [
    {
     "name": "stdout",
     "output_type": "stream",
     "text": [
      "텍스트: apple, 타입: <class 'str'>\n",
      "리스트: ['a', 'p', 'p', 'l', 'e'], 타입: <class 'list'>\n",
      "튜플: ('a', 'p', 'p', 'l', 'e'), 타입: <class 'tuple'>\n",
      "집합: {'p', 'l', 'e', 'a'}, 타입: <class 'set'>\n"
     ]
    }
   ],
   "source": [
    "# 응용\n",
    "# 문자열을 다양한 자료형으로 변환해보았다.\n",
    "text = \"apple\"\n",
    "\n",
    "# 문자열 출력 및 자료형\n",
    "print(f'텍스트: {text}, 타입: {type(text)}')\n",
    "\n",
    "# 문자열을 리스트로 변환\n",
    "list_text = list(text)\n",
    "print(f'리스트: {list_text}, 타입: {type(list_text)}')\n",
    "\n",
    "# 문자열을 튜플로 변환\n",
    "tuple_text = tuple(text)\n",
    "print(f'튜플: {tuple_text}, 타입: {type(tuple_text)}')\n",
    "\n",
    "# 문자열을 집합으로 변환 (중복 제거됨됨)\n",
    "set_text = set(text)\n",
    "print(f'집합: {set_text}, 타입: {type(set_text)}')"
   ]
  }
 ],
 "metadata": {
  "kernelspec": {
   "display_name": "base",
   "language": "python",
   "name": "python3"
  },
  "language_info": {
   "codemirror_mode": {
    "name": "ipython",
    "version": 3
   },
   "file_extension": ".py",
   "mimetype": "text/x-python",
   "name": "python",
   "nbconvert_exporter": "python",
   "pygments_lexer": "ipython3",
   "version": "3.12.8"
  }
 },
 "nbformat": 4,
 "nbformat_minor": 2
}
