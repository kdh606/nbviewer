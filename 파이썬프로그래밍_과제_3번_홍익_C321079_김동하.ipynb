{
 "cells": [
  {
   "cell_type": "code",
   "execution_count": 81,
   "id": "3ed2b60a",
   "metadata": {},
   "outputs": [
    {
     "name": "stdout",
     "output_type": "stream",
     "text": [
      "nums_comp=[11, 12, 13, 14, 15]\n"
     ]
    }
   ],
   "source": [
    "#기본\n",
    "nums_comp = [num+10 for num in range(1,6)]\n",
    "print(f\"{nums_comp=}\")"
   ]
  },
  {
   "cell_type": "code",
   "execution_count": 82,
   "id": "c7f0b5d5",
   "metadata": {},
   "outputs": [
    {
     "name": "stdout",
     "output_type": "stream",
     "text": [
      "nums_for=[11, 12, 13, 14, 15]\n"
     ]
    }
   ],
   "source": [
    "nums_for = []\n",
    "for num in range(1, 6):\n",
    "    nums_for.append(num + 10)\n",
    "\n",
    "print(f\"{nums_for=}\")"
   ]
  },
  {
   "cell_type": "code",
   "execution_count": 83,
   "id": "689c6611",
   "metadata": {},
   "outputs": [
    {
     "data": {
      "text/plain": [
       "15"
      ]
     },
     "execution_count": 83,
     "metadata": {},
     "output_type": "execute_result"
    }
   ],
   "source": [
    "def add_ten(num):\n",
    "    return num + 10\n",
    "\n",
    "add_ten(5)"
   ]
  },
  {
   "cell_type": "code",
   "execution_count": 84,
   "id": "b6a3c17b",
   "metadata": {},
   "outputs": [
    {
     "data": {
      "text/plain": [
       "<map at 0x1903ccdceb0>"
      ]
     },
     "execution_count": 84,
     "metadata": {},
     "output_type": "execute_result"
    }
   ],
   "source": [
    "map(add_ten,[1, 2, 3, 4, 5])"
   ]
  },
  {
   "cell_type": "code",
   "execution_count": 85,
   "id": "328f77ac",
   "metadata": {},
   "outputs": [
    {
     "data": {
      "text/plain": [
       "[11, 12, 13, 14, 15]"
      ]
     },
     "execution_count": 85,
     "metadata": {},
     "output_type": "execute_result"
    }
   ],
   "source": [
    "list(map(add_ten, [1, 2, 3, 4, 5]))"
   ]
  },
  {
   "cell_type": "code",
   "execution_count": 86,
   "id": "2a917302",
   "metadata": {},
   "outputs": [
    {
     "name": "stdout",
     "output_type": "stream",
     "text": [
      "nums_map=[11, 12, 13, 14, 15]\n"
     ]
    }
   ],
   "source": [
    "nums_map = list(map(add_ten, range(1, 6)))\n",
    "print(f\"{nums_map=}\")\n"
   ]
  },
  {
   "cell_type": "code",
   "execution_count": 87,
   "id": "8f8ff2a5",
   "metadata": {},
   "outputs": [
    {
     "name": "stdout",
     "output_type": "stream",
     "text": [
      "nums_math=[1, 3, 5, 7, 9]\n"
     ]
    }
   ],
   "source": [
    "nums_math = [num*2-1 for num in range(1, 6)]\n",
    "print(f\"{nums_math=}\")"
   ]
  },
  {
   "cell_type": "code",
   "execution_count": 88,
   "id": "bf1f6a37",
   "metadata": {},
   "outputs": [
    {
     "name": "stdout",
     "output_type": "stream",
     "text": [
      "nums_func=['int_1', 'int_2', 'int_3', 'int_4', 'int_5']\n"
     ]
    }
   ],
   "source": [
    "def addString(x):\n",
    "    return 'int_' + str(x)\n",
    "nums_func = [addString(num) for num in range(1, 6)]\n",
    "print(f\"{nums_func=}\")\n",
    "\n"
   ]
  },
  {
   "cell_type": "code",
   "execution_count": 89,
   "id": "9cc127a5",
   "metadata": {},
   "outputs": [
    {
     "name": "stdout",
     "output_type": "stream",
     "text": [
      "nums_odds=[1, 3, 5, 7, 9]\n"
     ]
    }
   ],
   "source": [
    "nums_odds = [num for num in range(1, 11) if num % 2 == 1]\n",
    "print(f\"{nums_odds=}\")"
   ]
  },
  {
   "cell_type": "code",
   "execution_count": 90,
   "id": "35ee3193",
   "metadata": {},
   "outputs": [
    {
     "name": "stdout",
     "output_type": "stream",
     "text": [
      "nums_odds_zero=[1, 0, 3, 0, 5]\n"
     ]
    }
   ],
   "source": [
    "nums_odds_zero = [num if num % 2 == 1 else 0 for num in range(1, 6)]\n",
    "print(f\"{nums_odds_zero=}\")"
   ]
  },
  {
   "cell_type": "code",
   "execution_count": 91,
   "id": "03a5ed33",
   "metadata": {},
   "outputs": [
    {
     "name": "stdout",
     "output_type": "stream",
     "text": [
      "nums_odds_less4=[1, 3]\n"
     ]
    }
   ],
   "source": [
    "nums_odds_less4 = [ num for num in range(1, 6) if num % 2 == 1 and num < 4]\n",
    "print(f\"{nums_odds_less4=}\")"
   ]
  },
  {
   "cell_type": "code",
   "execution_count": 92,
   "id": "ad38eff0",
   "metadata": {},
   "outputs": [
    {
     "name": "stdout",
     "output_type": "stream",
     "text": [
      "nums_pairs=[(1, 'a'), (1, 'b'), (1, 'c'), (2, 'a'), (2, 'b'), (2, 'c')]\n"
     ]
    }
   ],
   "source": [
    "nums_pairs = [(x, y) for x in range(1, 3) for y in ['a', 'b', 'c']]\n",
    "print(f\"{nums_pairs=}\")"
   ]
  },
  {
   "cell_type": "code",
   "execution_count": 93,
   "id": "66a765dc",
   "metadata": {},
   "outputs": [
    {
     "name": "stdout",
     "output_type": "stream",
     "text": [
      "nums_pairs_sum5=[(1, 4), (2, 3), (3, 2), (4, 1)]\n"
     ]
    }
   ],
   "source": [
    "nums_pairs_sum5 = [(x, y) for x in range(1, 6) for y in range(1, 6) if x + y == 5]\n",
    "print(f\"{nums_pairs_sum5=}\")"
   ]
  },
  {
   "cell_type": "code",
   "execution_count": 94,
   "id": "b24c457e",
   "metadata": {},
   "outputs": [
    {
     "name": "stdout",
     "output_type": "stream",
     "text": [
      "students_for={1: 'Eve', 2: 'Eve', 3: 'Eve', 4: 'Eve', 5: 'Eve'}\n"
     ]
    }
   ],
   "source": [
    "ids = [1, 2, 3, 4, 5]\n",
    "student_names = ['Alice', 'Bob', 'Charlie', 'David', 'Eve']\n",
    "students_for = {id: name for id in ids for name in student_names}\n",
    "\n",
    "print(f\"{students_for=}\")"
   ]
  },
  {
   "cell_type": "code",
   "execution_count": 95,
   "id": "bc21b2be",
   "metadata": {},
   "outputs": [
    {
     "name": "stdout",
     "output_type": "stream",
     "text": [
      "students_enumerate={0: 'Alice', 1: 'Bob', 2: 'Charlie', 3: 'David', 4: 'Eve'}\n"
     ]
    }
   ],
   "source": [
    "student_names = ['Alice', 'Bob', 'Charlie', 'David', 'Eve']\n",
    "students_enumerate = {id: name for id, name in enumerate(student_names)}\n",
    "print(f\"{students_enumerate=}\")"
   ]
  },
  {
   "cell_type": "code",
   "execution_count": 96,
   "id": "2f2f43fe",
   "metadata": {},
   "outputs": [
    {
     "name": "stdout",
     "output_type": "stream",
     "text": [
      "students_zip={1: 'Alice', 2: 'Bob', 3: 'Charlie', 4: 'David', 5: 'Eve'}\n"
     ]
    }
   ],
   "source": [
    "ids = [1, 2, 3, 4, 5]\n",
    "student_names = ['Alice', 'Bob', 'Charlie', 'David', 'Eve']\n",
    "students_zip = {id: name for id, name in zip(ids, student_names)}\n",
    "print(f\"{students_zip=}\")"
   ]
  },
  {
   "cell_type": "code",
   "execution_count": 97,
   "id": "c755fa8c",
   "metadata": {},
   "outputs": [
    {
     "name": "stdout",
     "output_type": "stream",
     "text": [
      "sum_list=[2, 3, 4, 3, 4, 5, 4, 5, 6]\n",
      "\n",
      "sum_set={2, 3, 4, 5, 6}\n"
     ]
    }
   ],
   "source": [
    "sum_list = [x+y for x in range(1, 4) for y in range(1, 4)]\n",
    "print(f\"{sum_list=}\\n\")\n",
    "\n",
    "sum_set = {x+y for x in range(1, 4) for y in range(1, 4)}\n",
    "print(f\"{sum_set=}\")"
   ]
  },
  {
   "cell_type": "code",
   "execution_count": 98,
   "id": "fda5d597",
   "metadata": {},
   "outputs": [
    {
     "name": "stdout",
     "output_type": "stream",
     "text": [
      "nums_pairs_list=[(1, 'a'), (1, 'b'), (1, 'c'), (2, 'a'), (2, 'b'), (2, 'c')]\n",
      "\n",
      "nums_pairs_tuple=<generator object <genexpr> at 0x000001903C53FD80>\n",
      "tuple(nums_pairs_tuple)=((1, 'a'), (1, 'b'), (1, 'c'), (2, 'a'), (2, 'b'), (2, 'c'))\n",
      "\n",
      "nums_pairs_tuple2=((1, 'a'), (1, 'b'), (1, 'c'), (2, 'a'), (2, 'b'), (2, 'c'))\n"
     ]
    }
   ],
   "source": [
    "nums_pairs_list = [(x, y) for x in range(1, 3) for y in ['a', 'b', 'c']]\n",
    "\n",
    "print(f\"{nums_pairs_list=}\\n\")\n",
    "\n",
    "nums_pairs_tuple = ((x, y) for x in range(1, 3) for y in ['a', 'b', 'c'])\n",
    "\n",
    "print(f\"{nums_pairs_tuple=}\")\n",
    "\n",
    "print(f\"{tuple(nums_pairs_tuple)=}\\n\")\n",
    "\n",
    "nums_pairs_tuple2 = tuple((x, y) for x in range(1, 3) for y in ['a', 'b', 'c'])\n",
    "print(f\"{nums_pairs_tuple2=}\")\n"
   ]
  },
  {
   "cell_type": "code",
   "execution_count": 99,
   "id": "91547120",
   "metadata": {},
   "outputs": [],
   "source": [
    "def calcSumProduct(a, b=10):\n",
    "    plus = a + b\n",
    "    mult = a * b\n",
    "    return plus, mult"
   ]
  },
  {
   "cell_type": "code",
   "execution_count": 100,
   "id": "28121ea3",
   "metadata": {},
   "outputs": [
    {
     "name": "stdout",
     "output_type": "stream",
     "text": [
      "sum=10, product=21\n"
     ]
    }
   ],
   "source": [
    "sum, product = calcSumProduct(3,7)\n",
    "print(f\"{sum=}, {product=}\")"
   ]
  },
  {
   "cell_type": "code",
   "execution_count": 101,
   "id": "9ee75512",
   "metadata": {},
   "outputs": [
    {
     "name": "stdout",
     "output_type": "stream",
     "text": [
      "sum=13, product=30\n"
     ]
    }
   ],
   "source": [
    "sum, product = calcSumProduct(3)\n",
    "print(f\"{sum=}, {product=}\")"
   ]
  },
  {
   "cell_type": "code",
   "execution_count": 102,
   "id": "33def710",
   "metadata": {},
   "outputs": [
    {
     "name": "stdout",
     "output_type": "stream",
     "text": [
      "sum=7, product=12\n"
     ]
    }
   ],
   "source": [
    "sum, product = calcSumProduct(b=3, a=4)\n",
    "print(f\"{sum=}, {product=}\")"
   ]
  },
  {
   "cell_type": "code",
   "execution_count": 103,
   "id": "53c58d10",
   "metadata": {},
   "outputs": [],
   "source": [
    "def calcSumProduct(a:int, b:int=10) ->  int:\n",
    "    print(f'{a=}, {b=}')\n",
    "    plus = a + b\n",
    "    mult = a * b\n",
    "    return plus, mult"
   ]
  },
  {
   "cell_type": "code",
   "execution_count": 104,
   "id": "e17753e2",
   "metadata": {},
   "outputs": [
    {
     "name": "stdout",
     "output_type": "stream",
     "text": [
      "Help on function calcSumProduct in module __main__:\n",
      "\n",
      "calcSumProduct(a: int, b: int = 10) -> int\n",
      "\n"
     ]
    }
   ],
   "source": [
    "help(calcSumProduct)\n"
   ]
  },
  {
   "cell_type": "code",
   "execution_count": 105,
   "id": "ba6d5b2b",
   "metadata": {},
   "outputs": [
    {
     "name": "stdout",
     "output_type": "stream",
     "text": [
      "inputs = (1, 2, 3)\n",
      "sum = 6, product = 6\n",
      "\n",
      "inputs = (1, 2, 3, 4, 5, 6, 7, 8)\n",
      "sum = 36, product = 40320\n"
     ]
    }
   ],
   "source": [
    "import numpy as np\n",
    "\n",
    "def calcSumProduct2(*inputs):\n",
    "    print(f'inputs = {inputs}')\n",
    "    plus = np.sum(inputs)\n",
    "    multiple = np.prod(inputs)\n",
    "    return plus, multiple\n",
    "\n",
    "sum, product = calcSumProduct2(1, 2, 3)\n",
    "print(f'sum = {sum}, product = {product}\\n')\n",
    "\n",
    "sum, product = calcSumProduct2(1, 2, 3, 4, 5, 6, 7, 8)\n",
    "print(f'sum = {sum}, product = {product}')"
   ]
  },
  {
   "cell_type": "code",
   "execution_count": 106,
   "id": "9a8ee9e4",
   "metadata": {},
   "outputs": [
    {
     "name": "stdout",
     "output_type": "stream",
     "text": [
      "inputs = {'a': 1, 'b': 2}\n",
      "sum = 3, product = 2\n",
      "\n",
      "inputs = {'a': 1, 'b': 2, 'c': 3, 'd': 4}\n",
      "sum = 10, product = 24\n"
     ]
    }
   ],
   "source": [
    "import numpy as np\n",
    "\n",
    "def calcSumProduct2(**inputs):\n",
    "    print(f'inputs = {inputs}')\n",
    "    plus = 0\n",
    "    multiple = 1\n",
    "\n",
    "    for _, value in inputs.items():\n",
    "        plus += value\n",
    "        multiple *= value\n",
    "\n",
    "    return plus, multiple\n",
    "\n",
    "sum, product = calcSumProduct2(a=1, b=2)\n",
    "print(f'sum = {sum}, product = {product}\\n')\n",
    "\n",
    "sum, product = calcSumProduct2(a=1, b=2, c=3, d=4)\n",
    "print(f'sum = {sum}, product = {product}')"
   ]
  },
  {
   "cell_type": "code",
   "execution_count": 107,
   "id": "c430ae63",
   "metadata": {},
   "outputs": [
    {
     "name": "stdout",
     "output_type": "stream",
     "text": [
      "var_global='전역 변수'\n",
      "var_local='인자는 지역 변수'\n",
      "var_global='이제는 전역 변수'\n"
     ]
    }
   ],
   "source": [
    "var_global = '전역 변수'\n",
    "\n",
    "def useGlobalVarible(var_local):\n",
    "    global var_global\n",
    "    print(f'{var_global=}')\n",
    "    print(f'{var_local=}')\n",
    "\n",
    "    var_global = '이제는 전역 변수'\n",
    "\n",
    "useGlobalVarible('인자는 지역 변수')\n",
    "print(f'{var_global=}')\n",
    "    "
   ]
  },
  {
   "cell_type": "code",
   "execution_count": 108,
   "id": "8490a658",
   "metadata": {},
   "outputs": [
    {
     "data": {
      "text/plain": [
       "15"
      ]
     },
     "execution_count": 108,
     "metadata": {},
     "output_type": "execute_result"
    }
   ],
   "source": [
    "def addTen(x):\n",
    "    return x + 10\n",
    "\n",
    "addTen(5)"
   ]
  },
  {
   "cell_type": "code",
   "execution_count": 109,
   "id": "4bdc2e25",
   "metadata": {},
   "outputs": [
    {
     "data": {
      "text/plain": [
       "<function __main__.<lambda>(x)>"
      ]
     },
     "execution_count": 109,
     "metadata": {},
     "output_type": "execute_result"
    }
   ],
   "source": [
    "lambda x: x + 10"
   ]
  },
  {
   "cell_type": "code",
   "execution_count": 110,
   "id": "0f9b8bf4",
   "metadata": {},
   "outputs": [
    {
     "data": {
      "text/plain": [
       "15"
      ]
     },
     "execution_count": 110,
     "metadata": {},
     "output_type": "execute_result"
    }
   ],
   "source": [
    "(lambda x: x + 10)(5)\n"
   ]
  },
  {
   "cell_type": "code",
   "execution_count": 111,
   "id": "29badba2",
   "metadata": {},
   "outputs": [
    {
     "data": {
      "text/plain": [
       "15"
      ]
     },
     "execution_count": 111,
     "metadata": {},
     "output_type": "execute_result"
    }
   ],
   "source": [
    "addTen = lambda x: x + 10\n",
    "\n",
    "addTen(5)"
   ]
  },
  {
   "cell_type": "code",
   "execution_count": 112,
   "id": "ca563e7e",
   "metadata": {},
   "outputs": [
    {
     "data": {
      "text/plain": [
       "110"
      ]
     },
     "execution_count": 112,
     "metadata": {},
     "output_type": "execute_result"
    }
   ],
   "source": [
    "y = 100\n",
    "(lambda x: x + y+5)(5)"
   ]
  },
  {
   "cell_type": "code",
   "execution_count": 113,
   "id": "e4a95a3b",
   "metadata": {},
   "outputs": [
    {
     "data": {
      "text/plain": [
       "'(3의 배수)9'"
      ]
     },
     "execution_count": 113,
     "metadata": {},
     "output_type": "execute_result"
    }
   ],
   "source": [
    "(lambda x : '(3의 배수)'+str(x) if x % 3 == 0 else x)(9)"
   ]
  },
  {
   "cell_type": "code",
   "execution_count": 114,
   "id": "41eb40cd",
   "metadata": {},
   "outputs": [
    {
     "data": {
      "text/plain": [
       "8"
      ]
     },
     "execution_count": 114,
     "metadata": {},
     "output_type": "execute_result"
    }
   ],
   "source": [
    "(lambda x : '(3의 배수)'+str(x) if x % 3 == 0 else x)(8)"
   ]
  },
  {
   "cell_type": "code",
   "execution_count": 115,
   "id": "4f51577d",
   "metadata": {},
   "outputs": [
    {
     "data": {
      "text/plain": [
       "'(3의 배수)9'"
      ]
     },
     "execution_count": 115,
     "metadata": {},
     "output_type": "execute_result"
    }
   ],
   "source": [
    "(lambda x : '(3의 배수)'+str(x) if x % 3 == 0 else float(x) if x%3==1 else x)(9)"
   ]
  },
  {
   "cell_type": "code",
   "execution_count": 116,
   "id": "5869fc07",
   "metadata": {},
   "outputs": [
    {
     "data": {
      "text/plain": [
       "7.0"
      ]
     },
     "execution_count": 116,
     "metadata": {},
     "output_type": "execute_result"
    }
   ],
   "source": [
    "(lambda x : '(3의 배수)'+str(x) if x % 3 == 0 else float(x) if x%3==1 else x)(7)"
   ]
  },
  {
   "cell_type": "code",
   "execution_count": 117,
   "id": "8537d660",
   "metadata": {},
   "outputs": [
    {
     "data": {
      "text/plain": [
       "5"
      ]
     },
     "execution_count": 117,
     "metadata": {},
     "output_type": "execute_result"
    }
   ],
   "source": [
    "(lambda x : '(3의 배수)'+str(x) if x % 3 == 0 else float(x) if x%3==1 else x)(5)"
   ]
  },
  {
   "cell_type": "code",
   "execution_count": 118,
   "id": "577b0228",
   "metadata": {},
   "outputs": [
    {
     "data": {
      "text/plain": [
       "3"
      ]
     },
     "execution_count": 118,
     "metadata": {},
     "output_type": "execute_result"
    }
   ],
   "source": [
    "(lambda x, y: x if x%3==0 else x+y)(3, 10)"
   ]
  },
  {
   "cell_type": "code",
   "execution_count": 119,
   "id": "e3550e9a",
   "metadata": {},
   "outputs": [
    {
     "data": {
      "text/plain": [
       "12"
      ]
     },
     "execution_count": 119,
     "metadata": {},
     "output_type": "execute_result"
    }
   ],
   "source": [
    "(lambda x, y: x if x%3==0 else x+y)(2, 10)"
   ]
  },
  {
   "cell_type": "code",
   "execution_count": 120,
   "id": "6ea52102",
   "metadata": {},
   "outputs": [
    {
     "data": {
      "text/plain": [
       "[11, 12, 13, 14, 15]"
      ]
     },
     "execution_count": 120,
     "metadata": {},
     "output_type": "execute_result"
    }
   ],
   "source": [
    "list(map(lambda x: x + 10, [1, 2, 3, 4, 5]))\n",
    "     "
   ]
  },
  {
   "cell_type": "code",
   "execution_count": 121,
   "id": "f0e2632d",
   "metadata": {},
   "outputs": [
    {
     "name": "stdout",
     "output_type": "stream",
     "text": [
      "['(3의 배수)0', 1, 2, '(3의 배수)3', 4, 5, '(3의 배수)6', 7, 8, '(3의 배수)9']\n"
     ]
    }
   ],
   "source": [
    "ldMult3 = lambda x: '(3의 배수)'+str(x) if x % 3 == 0 else x\n",
    "print(list(map(ldMult3, range(10))))\n"
   ]
  },
  {
   "cell_type": "code",
   "execution_count": 122,
   "id": "366b23a5",
   "metadata": {},
   "outputs": [
    {
     "name": "stdout",
     "output_type": "stream",
     "text": [
      "['(3의 배수)0', 1.0, 2, '(3의 배수)3', 4.0, 5, '(3의 배수)6', 7.0, 8, '(3의 배수)9']\n"
     ]
    }
   ],
   "source": [
    "ldMult3f = lambda x: '(3의 배수)'+str(x) if x % 3 == 0 else float(x) if x%3==1 else x\n",
    "print(list(map(ldMult3f, range(10))))"
   ]
  },
  {
   "cell_type": "code",
   "execution_count": 123,
   "id": "22f63c37",
   "metadata": {},
   "outputs": [
    {
     "name": "stdout",
     "output_type": "stream",
     "text": [
      "[0, 101, 102, 3, 104, 105, 6, 107, 108, 9]\n"
     ]
    }
   ],
   "source": [
    "ldMult3a = lambda x, y: x if x%3==0 else x+y\n",
    "print(list(map(ldMult3a, range(10), [100]*10)))"
   ]
  },
  {
   "cell_type": "code",
   "execution_count": 124,
   "id": "ba997cce",
   "metadata": {},
   "outputs": [
    {
     "name": "stdout",
     "output_type": "stream",
     "text": [
      "Alice: Pass\n",
      "Bob: Fail\n",
      "Charlie: Pass\n",
      "Diana: Fail\n",
      "Evan: Pass\n"
     ]
    }
   ],
   "source": [
    "#응용\n",
    "# 학생 점수를 받아 합격 여부를 판단하는 함수 정의\n",
    "def check_pass_fail(student_scores, threshold=60):\n",
    "    # 딕셔너리 컴프리헨션 사용: 이름을 key로, \"Pass\"/\"Fail\"을 value로 저장 \n",
    "    return {\n",
    "        name: \"Pass\" if score >= threshold else \"Fail\"\n",
    "        for name, score in student_scores.items()\n",
    "    }\n",
    "\n",
    "# 학생 이름과 점수 데이터를 가진 딕셔너리\n",
    "students = {\n",
    "    \"Alice\": 85,\n",
    "    \"Bob\": 58,\n",
    "    \"Charlie\": 73,\n",
    "    \"Diana\": 45,\n",
    "    \"Evan\": 90\n",
    "}\n",
    "\n",
    "# check_pass_fail 함수를 호출하여 결과 딕셔너리 생성 \n",
    "results = check_pass_fail(students, threshold=60)\n",
    "\n",
    "# 결과 출력\n",
    "for name, result in results.items():\n",
    "    print(f\"{name}: {result}\")"
   ]
  }
 ],
 "metadata": {
  "kernelspec": {
   "display_name": "base",
   "language": "python",
   "name": "python3"
  },
  "language_info": {
   "codemirror_mode": {
    "name": "ipython",
    "version": 3
   },
   "file_extension": ".py",
   "mimetype": "text/x-python",
   "name": "python",
   "nbconvert_exporter": "python",
   "pygments_lexer": "ipython3",
   "version": "3.12.8"
  }
 },
 "nbformat": 4,
 "nbformat_minor": 5
}
