{
 "cells": [
  {
   "cell_type": "code",
   "execution_count": 45,
   "id": "972df76e",
   "metadata": {},
   "outputs": [
    {
     "name": "stdout",
     "output_type": "stream",
     "text": [
      "C321079·김동하\n"
     ]
    }
   ],
   "source": [
    "print(\"C321079·김동하\")"
   ]
  },
  {
   "cell_type": "code",
   "execution_count": 46,
   "id": "49d07d22",
   "metadata": {},
   "outputs": [
    {
     "name": "stdout",
     "output_type": "stream",
     "text": [
      "23\n",
      "산업·데이터공학과\n",
      "3.14\n",
      "True\t###"
     ]
    }
   ],
   "source": [
    "print(23, '산업·데이터공학과',3.14, True, sep='\\n',end='\\t###')"
   ]
  },
  {
   "cell_type": "code",
   "execution_count": null,
   "id": "19d5c34c",
   "metadata": {},
   "outputs": [],
   "source": []
  },
  {
   "cell_type": "code",
   "execution_count": 47,
   "id": "a8dfa49f",
   "metadata": {},
   "outputs": [
    {
     "name": "stdout",
     "output_type": "stream",
     "text": [
      "변수명='변수수'\n"
     ]
    }
   ],
   "source": [
    "변수명='변수수'\n",
    "print(f'{변수명=}')\n"
   ]
  },
  {
   "cell_type": "code",
   "execution_count": 48,
   "id": "af66677b",
   "metadata": {},
   "outputs": [
    {
     "name": "stdout",
     "output_type": "stream",
     "text": [
      "type(var_y)=\n"
     ]
    },
    {
     "data": {
      "text/plain": [
       "2"
      ]
     },
     "execution_count": 48,
     "metadata": {},
     "output_type": "execute_result"
    }
   ],
   "source": [
    "\n",
    "\n",
    "\n",
    "var_y='abcde'\n",
    "print(f'type(var_y)=')\n",
    "var_y.find('c')\n",
    "\n",
    "\n"
   ]
  },
  {
   "cell_type": "markdown",
   "id": "a0c3e17b",
   "metadata": {},
   "source": [
    "-"
   ]
  },
  {
   "cell_type": "code",
   "execution_count": 49,
   "id": "986316cd",
   "metadata": {},
   "outputs": [
    {
     "ename": "SyntaxError",
     "evalue": "unterminated f-string literal (detected at line 5) (1426846404.py, line 5)",
     "output_type": "error",
     "traceback": [
      "  \u001b[36mCell\u001b[39m\u001b[36m \u001b[39m\u001b[32mIn[49]\u001b[39m\u001b[32m, line 5\u001b[39m\n\u001b[31m    \u001b[39m\u001b[31mprint(f'var_z는 {type(var_z)})\u001b[39m\n          ^\n\u001b[31mSyntaxError\u001b[39m\u001b[31m:\u001b[39m unterminated f-string literal (detected at line 5)\n"
     ]
    }
   ],
   "source": [
    "var_z=54321\n",
    "var_y=213.41251616\n",
    "print(f'{var_z:20d}')\n",
    "print(f'{var_y:^30.5f}')\n",
    "print(f'var_z는 {type(var_z)})"
   ]
  },
  {
   "cell_type": "code",
   "execution_count": null,
   "id": "ce8b6eff",
   "metadata": {},
   "outputs": [
    {
     "data": {
      "text/plain": [
       "691255"
      ]
     },
     "execution_count": 2,
     "metadata": {},
     "output_type": "execute_result"
    }
   ],
   "source": [
    "12345+678910"
   ]
  },
  {
   "cell_type": "code",
   "execution_count": null,
   "id": "fb41dd9c",
   "metadata": {},
   "outputs": [
    {
     "data": {
      "text/plain": [
       "'abcdefghij\"'"
      ]
     },
     "execution_count": 15,
     "metadata": {},
     "output_type": "execute_result"
    }
   ],
   "source": [
    "#설명 개못탱\n",
    "'abcde'+'fghij\"'\n"
   ]
  },
  {
   "cell_type": "code",
   "execution_count": null,
   "id": "71751f03",
   "metadata": {},
   "outputs": [],
   "source": [
    "\n",
    "float(1234.455)\n"
   ]
  },
  {
   "cell_type": "code",
   "execution_count": null,
   "id": "8924f897",
   "metadata": {},
   "outputs": [
    {
     "data": {
      "text/plain": [
       "12345"
      ]
     },
     "execution_count": 12,
     "metadata": {},
     "output_type": "execute_result"
    }
   ],
   "source": [
    "\n",
    "int('12345')"
   ]
  },
  {
   "cell_type": "code",
   "execution_count": null,
   "id": "e5db51d6",
   "metadata": {},
   "outputs": [
    {
     "name": "stdout",
     "output_type": "stream",
     "text": [
      "a\n",
      "b\n",
      "c\n",
      "d\n",
      "e\n"
     ]
    }
   ],
   "source": [
    "for i in 'abcde':\n",
    "    print(i)\n",
    "    "
   ]
  },
  {
   "cell_type": "code",
   "execution_count": null,
   "id": "c4b34e49",
   "metadata": {},
   "outputs": [
    {
     "name": "stdout",
     "output_type": "stream",
     "text": [
      "1\n",
      "2\n",
      "3\n",
      "4\n",
      "5\n"
     ]
    }
   ],
   "source": [
    "for i in [1,2,3,4,5]:\n",
    "    print(i)"
   ]
  },
  {
   "cell_type": "code",
   "execution_count": null,
   "id": "d8dbae12",
   "metadata": {},
   "outputs": [
    {
     "data": {
      "text/plain": [
       "(-99,\n",
       " -98,\n",
       " -97,\n",
       " -96,\n",
       " -95,\n",
       " -94,\n",
       " -93,\n",
       " -92,\n",
       " -91,\n",
       " -90,\n",
       " -89,\n",
       " -88,\n",
       " -87,\n",
       " -86,\n",
       " -85,\n",
       " -84,\n",
       " -83,\n",
       " -82,\n",
       " -81,\n",
       " -80,\n",
       " -79,\n",
       " -78,\n",
       " -77,\n",
       " -76,\n",
       " -75,\n",
       " -74,\n",
       " -73,\n",
       " -72,\n",
       " -71,\n",
       " -70,\n",
       " -69,\n",
       " -68,\n",
       " -67,\n",
       " -66,\n",
       " -65,\n",
       " -64,\n",
       " -63,\n",
       " -62,\n",
       " -61,\n",
       " -60,\n",
       " -59,\n",
       " -58,\n",
       " -57,\n",
       " -56,\n",
       " -55,\n",
       " -54,\n",
       " -53,\n",
       " -52,\n",
       " -51,\n",
       " -50,\n",
       " -49,\n",
       " -48,\n",
       " -47,\n",
       " -46,\n",
       " -45,\n",
       " -44,\n",
       " -43,\n",
       " -42,\n",
       " -41,\n",
       " -40,\n",
       " -39,\n",
       " -38,\n",
       " -37,\n",
       " -36,\n",
       " -35,\n",
       " -34,\n",
       " -33,\n",
       " -32,\n",
       " -31,\n",
       " -30,\n",
       " -29,\n",
       " -28,\n",
       " -27,\n",
       " -26,\n",
       " -25,\n",
       " -24,\n",
       " -23,\n",
       " -22,\n",
       " -21,\n",
       " -20,\n",
       " -19,\n",
       " -18,\n",
       " -17,\n",
       " -16,\n",
       " -15,\n",
       " -14,\n",
       " -13,\n",
       " -12,\n",
       " -11,\n",
       " -10,\n",
       " -9,\n",
       " -8,\n",
       " -7,\n",
       " -6,\n",
       " -5,\n",
       " -4,\n",
       " -3,\n",
       " -2,\n",
       " -1)"
      ]
     },
     "execution_count": 11,
     "metadata": {},
     "output_type": "execute_result"
    }
   ],
   "source": [
    "tuple(range(-99,0))"
   ]
  },
  {
   "cell_type": "code",
   "execution_count": null,
   "id": "fae12dc0",
   "metadata": {},
   "outputs": [
    {
     "data": {
      "text/plain": [
       "72"
      ]
     },
     "execution_count": 39,
     "metadata": {},
     "output_type": "execute_result"
    }
   ],
   "source": [
    "2**3*3**2\n"
   ]
  },
  {
   "cell_type": "code",
   "execution_count": null,
   "id": "f20b5c4a",
   "metadata": {},
   "outputs": [
    {
     "data": {
      "text/plain": [
       "-97"
      ]
     },
     "execution_count": 40,
     "metadata": {},
     "output_type": "execute_result"
    }
   ],
   "source": [
    "5+6-12*3**2"
   ]
  },
  {
   "cell_type": "code",
   "execution_count": null,
   "id": "c65a04ba",
   "metadata": {},
   "outputs": [
    {
     "name": "stdout",
     "output_type": "stream",
     "text": [
      "before: X=[123, 'abcd']\n",
      "after: X=[456, 'abcd']\n"
     ]
    }
   ],
   "source": [
    "X=[123,'abcd']\n",
    "print(f'before: {X=}')\n",
    "X[0]=456\n",
    "print(f'after: {X=}')"
   ]
  },
  {
   "cell_type": "code",
   "execution_count": 50,
   "id": "aea422c2",
   "metadata": {},
   "outputs": [
    {
     "name": "stdout",
     "output_type": "stream",
     "text": [
      "True\n"
     ]
    }
   ],
   "source": [
    "a = True\n",
    "b = False\n",
    "print(a)"
   ]
  },
  {
   "cell_type": "code",
   "execution_count": 51,
   "id": "33d05940",
   "metadata": {},
   "outputs": [
    {
     "name": "stdout",
     "output_type": "stream",
     "text": [
      "(1 in A)=True\n"
     ]
    }
   ],
   "source": [
    "A = [1,2,3,4]\n",
    "print(f'{(1 in A)=}')"
   ]
  },
  {
   "cell_type": "code",
   "execution_count": 52,
   "id": "8026b163",
   "metadata": {},
   "outputs": [
    {
     "name": "stdout",
     "output_type": "stream",
     "text": [
      "(A==10)=True\n",
      "(1 in A)=True\n"
     ]
    }
   ],
   "source": [
    "A = 10\n",
    "print(f'{(A==10)=}')\n",
    "A = [1,2,3,4]\n",
    "print(f'{(1 in A)=}')"
   ]
  },
  {
   "cell_type": "code",
   "execution_count": 57,
   "id": "7bc4ac9b",
   "metadata": {},
   "outputs": [
    {
     "name": "stdout",
     "output_type": "stream",
     "text": [
      "(x is y)=False\n",
      "(z==10)=False\n",
      "(x is not y)=True\n",
      "(z is not y)=False\n"
     ]
    }
   ],
   "source": [
    "x=20\n",
    "y=10.32\n",
    "z=y ; print(f'{(x is y)=}')\n",
    "print(f'{(z==10)=}')\n",
    "print(f'{(x is not y)=}')\n",
    "print(f'{(z is not y)=}')"
   ]
  }
 ],
 "metadata": {
  "kernelspec": {
   "display_name": "base",
   "language": "python",
   "name": "python3"
  },
  "language_info": {
   "codemirror_mode": {
    "name": "ipython",
    "version": 3
   },
   "file_extension": ".py",
   "mimetype": "text/x-python",
   "name": "python",
   "nbconvert_exporter": "python",
   "pygments_lexer": "ipython3",
   "version": "3.12.8"
  }
 },
 "nbformat": 4,
 "nbformat_minor": 5
}
