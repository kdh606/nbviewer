{
 "cells": [
  {
   "cell_type": "code",
   "execution_count": 1,
   "id": "899e4e4d",
   "metadata": {},
   "outputs": [
    {
     "name": "stdout",
     "output_type": "stream",
     "text": [
      "0\n",
      "1\n",
      "2\n",
      "3\n",
      "4\n",
      "5\n",
      "6\n"
     ]
    }
   ],
   "source": [
    "#C321079 김동하 파이썬프로그래밍 iterable 자료형 \n",
    "#기본\n",
    "\n",
    "X_list=[0,1,2,3,4,5,6]\n",
    "\n",
    "print(X_list[0])\n",
    "print(X_list[1])\n",
    "print(X_list[2])\n",
    "print(X_list[3])   \n",
    "print(X_list[4])\n",
    "print(X_list[5])\n",
    "print(X_list[6])"
   ]
  },
  {
   "cell_type": "code",
   "execution_count": 2,
   "id": "72402fda",
   "metadata": {},
   "outputs": [
    {
     "name": "stdout",
     "output_type": "stream",
     "text": [
      "0\n",
      "1\n",
      "2\n",
      "3\n",
      "4\n",
      "5\n",
      "6\n"
     ]
    }
   ],
   "source": [
    "X_list=[0,1,2,3,4,5,6]\n",
    "\n",
    "print(X_list[-7])\n",
    "print(X_list[-6])\n",
    "print(X_list[-5])\n",
    "print(X_list[-4])   \n",
    "print(X_list[-3])\n",
    "print(X_list[-2])\n",
    "print(X_list[-1])"
   ]
  },
  {
   "cell_type": "code",
   "execution_count": 3,
   "id": "5e9ddc30",
   "metadata": {},
   "outputs": [
    {
     "name": "stdout",
     "output_type": "stream",
     "text": [
      "list index out of range\n"
     ]
    }
   ],
   "source": [
    "X_list=[0,1,2,3,4,5,6]\n",
    "\n",
    "try:\n",
    "    print(X_list[8])\n",
    "except IndexError as e:\n",
    "    print(e)"
   ]
  },
  {
   "cell_type": "code",
   "execution_count": 4,
   "id": "f1e8157b",
   "metadata": {},
   "outputs": [
    {
     "name": "stdout",
     "output_type": "stream",
     "text": [
      "x_list = \t⇒ x_list[0] = 1\n",
      "x_tuple = \t⇒ x_tuple[-1] = 5\n"
     ]
    }
   ],
   "source": [
    "x_list = [1, 2, 3, 4, 5]    \n",
    "x_tuple = (1, 2, 3, 4, 5)    \n",
    "\n",
    "print(f'x_list = \\t⇒ {x_list[0] = }')  \n",
    "print(f'x_tuple = \\t⇒ {x_tuple[-1] = }')"
   ]
  },
  {
   "cell_type": "code",
   "execution_count": 5,
   "id": "50c7e8f9",
   "metadata": {},
   "outputs": [
    {
     "name": "stdout",
     "output_type": "stream",
     "text": [
      "x_dict = \t⇒ x_dict[\"name\"][0] = '김홍익'\n"
     ]
    }
   ],
   "source": [
    "x_dict = {'name': ['김홍익', '이파이'], 'id': [12345, 67890]}  \n",
    " \n",
    "print(f'x_dict = \\t⇒ {x_dict[\"name\"][0] = }')  "
   ]
  },
  {
   "cell_type": "code",
   "execution_count": 6,
   "id": "ef2a0eae",
   "metadata": {},
   "outputs": [
    {
     "name": "stdout",
     "output_type": "stream",
     "text": [
      "x_str = \t⇒ x_str[0] = 'H'\n",
      "x_str = \t⇒ x_str[6] = 'W'\n"
     ]
    }
   ],
   "source": [
    "x_str = 'Hello World!'\n",
    "  \n",
    "print(f'x_str = \\t⇒ {x_str[0] = }')   \n",
    "print(f'x_str = \\t⇒ {x_str[6] = }')  "
   ]
  },
  {
   "cell_type": "code",
   "execution_count": 7,
   "id": "a25fe06e",
   "metadata": {},
   "outputs": [
    {
     "name": "stdout",
     "output_type": "stream",
     "text": [
      "[1, 2, 3]\n",
      "[1, 2, 3, 4, 5, 6]\n",
      "[0, 1, 2, 3]\n",
      "[1, 3]\n"
     ]
    }
   ],
   "source": [
    "X_list=[0,1,2,3,4,5,6]\n",
    "\n",
    "print(X_list[1:4])\n",
    "print(X_list[1:])\n",
    "print(X_list[:4])\n",
    "print(X_list[1:5:2])"
   ]
  },
  {
   "cell_type": "code",
   "execution_count": 8,
   "id": "a0a81989",
   "metadata": {},
   "outputs": [
    {
     "name": "stdout",
     "output_type": "stream",
     "text": [
      "[1, 2, 3, 4, 5, 6]\n"
     ]
    }
   ],
   "source": [
    "X_list=[0,1,2,3,4,5,6]\n",
    "\n",
    "try:\n",
    "    print(X_list[1:10])\n",
    "except IndexError as e:\n",
    "    print(e)"
   ]
  },
  {
   "cell_type": "code",
   "execution_count": 9,
   "id": "88a2a68f",
   "metadata": {},
   "outputs": [
    {
     "name": "stdout",
     "output_type": "stream",
     "text": [
      "x_list = \t⇒ x_list[0:3] = [1, 2, 3]\n",
      "x_tuple = \t⇒ x_tuple[-1:-4:-1] = (5, 4, 3)\n"
     ]
    }
   ],
   "source": [
    "x_list = [1, 2, 3, 4, 5]    \n",
    "x_tuple = (1, 2, 3, 4, 5)    \n",
    "\n",
    "print(f'x_list = \\t⇒ {x_list[0:3] = }')  \n",
    "print(f'x_tuple = \\t⇒ {x_tuple[-1:-4:-1] = }')"
   ]
  },
  {
   "cell_type": "code",
   "execution_count": 10,
   "id": "fae914c5",
   "metadata": {},
   "outputs": [
    {
     "name": "stdout",
     "output_type": "stream",
     "text": [
      "x_dict = \t⇒ x_dict[\"name\"][1:3] = ['이파이']\n"
     ]
    }
   ],
   "source": [
    "x_dict = {'name': ['김홍익', '이파이'], 'id': [12345, 67890]}  \n",
    " \n",
    "print(f'x_dict = \\t⇒ {x_dict[\"name\"][1:3] = }')  "
   ]
  },
  {
   "cell_type": "code",
   "execution_count": 11,
   "id": "f9892342",
   "metadata": {},
   "outputs": [
    {
     "name": "stdout",
     "output_type": "stream",
     "text": [
      "x_str = \t⇒ x_str[0:3] = 'Hel'\n",
      "x_str = \t⇒ x_str[-2:-10:-3] = 'doo'\n"
     ]
    }
   ],
   "source": [
    "x_str = 'Hello World!'\n",
    "  \n",
    "print(f'x_str = \\t⇒ {x_str[0:3] = }')   \n",
    "print(f'x_str = \\t⇒ {x_str[-2:-10:-3] = }')  "
   ]
  },
  {
   "cell_type": "code",
   "execution_count": 12,
   "id": "ba7b1e83",
   "metadata": {},
   "outputs": [
    {
     "name": "stdout",
     "output_type": "stream",
     "text": [
      "k = (1, 2, 3, 4, 5)\n",
      "⇒ id(k)  = 2547535537040\n",
      "t = (1, 2, 3, 4, 5)\n",
      "⇒ id(t)  = 2547535537040\n"
     ]
    }
   ],
   "source": [
    "k=(1,2,3,4,5)\n",
    "\n",
    "t=k\n",
    "\n",
    "print(f'{k = }\\n⇒ {id(k)  = }')\n",
    "print(f'{t = }\\n⇒ {id(t)  = }')"
   ]
  },
  {
   "cell_type": "code",
   "execution_count": 13,
   "id": "f34948ea",
   "metadata": {},
   "outputs": [
    {
     "name": "stdout",
     "output_type": "stream",
     "text": [
      "k = (1, 2, 3, 4, 5)\n",
      "⇒ id(k)  = 2547535537040\n",
      "t = (1, 20, 5)\n",
      "⇒ id(t)  = 2547534313088\n"
     ]
    }
   ],
   "source": [
    "t=(1,20,5)\n",
    "\n",
    "print(f'{k = }\\n⇒ {id(k)  = }')\n",
    "print(f'{t = }\\n⇒ {id(t)  = }')"
   ]
  },
  {
   "cell_type": "code",
   "execution_count": 14,
   "id": "45799e2c",
   "metadata": {},
   "outputs": [
    {
     "name": "stdout",
     "output_type": "stream",
     "text": [
      "k = [0, 1, 2]\n",
      "⇒ id(k)  = 2547535600320\n",
      "t = [0, 1, 2]\n",
      "⇒ id(t)  = 2547535600320\n"
     ]
    }
   ],
   "source": [
    "k=[0,1,2]\n",
    "t=k\n",
    "print(f'{k = }\\n⇒ {id(k)  = }')\n",
    "print(f'{t = }\\n⇒ {id(t)  = }')\n"
   ]
  },
  {
   "cell_type": "code",
   "execution_count": 15,
   "id": "b87eabac",
   "metadata": {},
   "outputs": [
    {
     "name": "stdout",
     "output_type": "stream",
     "text": [
      "k = [100, 1, 2]\n",
      "⇒ id(k)  = 2547535600320\n",
      "t = [100, 1, 2]\n",
      "⇒ id(t)  = 2547535600320\n"
     ]
    }
   ],
   "source": [
    "t[0]=100\n",
    "print(f'{k = }\\n⇒ {id(k)  = }')\n",
    "print(f'{t = }\\n⇒ {id(t)  = }')"
   ]
  },
  {
   "cell_type": "code",
   "execution_count": 16,
   "id": "f63f9002",
   "metadata": {},
   "outputs": [
    {
     "name": "stdout",
     "output_type": "stream",
     "text": [
      "x_list는는 <class 'list'>이고, x_tuple는는 <class 'tuple'>이다.\n",
      "Before: x_list = [1, 2, 3, 4, 5]\n"
     ]
    }
   ],
   "source": [
    "x_list = [1, 2, 3, 4, 5]\n",
    "x_tuple = (1, 2, 3, 4, 5)\n",
    "\n",
    "print(f'x_list는는 {type(x_list)}이고, x_tuple는는 {type (x_tuple)}이다.')\n",
    "\n",
    "print(f'Before: {x_list = }')"
   ]
  },
  {
   "cell_type": "code",
   "execution_count": 17,
   "id": "d59f387b",
   "metadata": {},
   "outputs": [
    {
     "name": "stdout",
     "output_type": "stream",
     "text": [
      "Before: x_list = [1, 2, 3, 4, 5]\n",
      "After x_list = [1, '2', 3, 5]\n"
     ]
    }
   ],
   "source": [
    "print(f'Before: {x_list = }')\n",
    "\n",
    "try:\n",
    "    x_list[1] = '2'\n",
    "    del x_list[3]\n",
    "except TypeError as e:    \n",
    "    print(f'Error: {e}')\n",
    "print (f'After {x_list = }')"
   ]
  },
  {
   "cell_type": "code",
   "execution_count": 18,
   "id": "8267635f",
   "metadata": {},
   "outputs": [
    {
     "name": "stdout",
     "output_type": "stream",
     "text": [
      "Before: x_tuple = (1, 2, 3, 4, 5)\n",
      "Error: 'tuple' object does not support item assignment\n",
      "After x_tuple = (1, 2, 3, 4, 5)\n"
     ]
    }
   ],
   "source": [
    "print(f'Before: {x_tuple = }')\n",
    "\n",
    "try:\n",
    "    x_tuple[1] = '2'\n",
    "    del x_tuple[3]\n",
    "except TypeError as e:    \n",
    "    print(f'Error: {e}')\n",
    "print (f'After {x_tuple = }')"
   ]
  },
  {
   "cell_type": "code",
   "execution_count": 19,
   "id": "6c620ea0",
   "metadata": {},
   "outputs": [
    {
     "name": "stdout",
     "output_type": "stream",
     "text": [
      "len(x_list) = 5\n",
      "sum(x_list) = 10\n",
      "min(x_list) = 0\n",
      "max(x_list) = 4\n",
      "sorted(x_list) = [0, 1, 2, 3, 4]\n",
      "sorted(x_list, reverse=True) = [4, 3, 2, 1, 0]\n",
      "all(x_list) = False\n",
      "any(x_list) = True\n"
     ]
    }
   ],
   "source": [
    "x_list = [0, 1, 2, 3, 4]\n",
    "\n",
    "print(f'{len(x_list) = }')\n",
    "print(f'{sum(x_list) = }')\n",
    "print(f'{min(x_list) = }')\n",
    "print(f'{max(x_list) = }')\n",
    "print(f'{sorted(x_list) = }')\n",
    "print(f'{sorted(x_list, reverse=True) = }')\n",
    "print(f'{all(x_list) = }')\n",
    "print(f'{any(x_list) = }')\n"
   ]
  },
  {
   "cell_type": "code",
   "execution_count": 20,
   "id": "ddae4775",
   "metadata": {},
   "outputs": [
    {
     "name": "stdout",
     "output_type": "stream",
     "text": [
      "['__add__', '__class__', '__class_getitem__', '__contains__', '__delattr__', '__delitem__', '__dir__', '__doc__', '__eq__', '__format__', '__ge__', '__getattribute__', '__getitem__', '__getstate__', '__gt__', '__hash__', '__iadd__', '__imul__', '__init__', '__init_subclass__', '__iter__', '__le__', '__len__', '__lt__', '__mul__', '__ne__', '__new__', '__reduce__', '__reduce_ex__', '__repr__', '__reversed__', '__rmul__', '__setattr__', '__setitem__', '__sizeof__', '__str__', '__subclasshook__', 'append', 'clear', 'copy', 'count', 'extend', 'index', 'insert', 'pop', 'remove', 'reverse', 'sort']\t================================================================================\t"
     ]
    }
   ],
   "source": [
    "print(dir(x_list), end='\\t'+'='*80+'\\t')"
   ]
  },
  {
   "cell_type": "code",
   "execution_count": 21,
   "id": "2b259420",
   "metadata": {},
   "outputs": [
    {
     "name": "stdout",
     "output_type": "stream",
     "text": [
      "['__add__', '__class__', '__class_getitem__', '__contains__', '__delattr__', '__dir__', '__doc__', '__eq__', '__format__', '__ge__', '__getattribute__', '__getitem__', '__getnewargs__', '__getstate__', '__gt__', '__hash__', '__init__', '__init_subclass__', '__iter__', '__le__', '__len__', '__lt__', '__mul__', '__ne__', '__new__', '__reduce__', '__reduce_ex__', '__repr__', '__rmul__', '__setattr__', '__sizeof__', '__str__', '__subclasshook__', 'count', 'index']\n"
     ]
    }
   ],
   "source": [
    "print(dir(x_tuple))"
   ]
  },
  {
   "cell_type": "code",
   "execution_count": 22,
   "id": "6c1cf108",
   "metadata": {},
   "outputs": [
    {
     "name": "stdout",
     "output_type": "stream",
     "text": [
      "x_list = [1, 2, 3, 4, 5, 2, 3, 2]\n",
      "x_list.count(2) = 3\n",
      "x_list.index(2) = 1\n",
      "x_list is y_list = False\n",
      "id(x_list) = 2547535763264, id(y_list) = 2547535619904\n",
      "x_list = [1, 2, 2, 2, 3, 3, 4, 5]\n",
      "x_list = [1, 2, 2, 2, 3, 3, 4, 5, 6]\n",
      "x_list = [1, 2, 2, 2, 3, 3, 4, 5, 6, 7, 8, 9]\n",
      "x_list = [1, 2, 2, 2, 3, 3, 4, 5, 6, 7, 8, 9, [10, 11]]\n",
      "x_list = [1, 2, 2, 3.5, 2, 3, 3, 4, 5, 6, 7, 8, 9, [10, 11]]\n",
      "x_list = [1, 2, 2, 2, 3, 3, 4, 5, 6, 7, 8, 9, [10, 11]]\n",
      "x_list = [1, 2, 2, 2, 3, 3, 4, 5, 6, 7, 8, 9]\n",
      "x_list = [1, 2, 2, 2, 3, 3, 4, 6, 7, 8, 9]\n",
      "x_list = []\n",
      "Error: name 'x_list' is not defined\n"
     ]
    }
   ],
   "source": [
    "\n",
    "x_list = [1, 2, 3, 4, 5, 2, 3, 2]\n",
    "print(f'{x_list = }')\n",
    "print(f'{x_list.count(2) = }')\n",
    "print(f'{x_list.index(2) = }')\n",
    "\n",
    "y_list = x_list.copy()\n",
    "\n",
    "print(f'{x_list is y_list = }')\n",
    "\n",
    "print(f'{id(x_list) = }, {id(y_list) = }')\n",
    "\n",
    "x_list.sort()\n",
    "print(f'{x_list = }')\n",
    "\n",
    "x_list.append(6)\n",
    "print(f'{x_list = }')\n",
    "\n",
    "x_list.extend([7,8,9])\n",
    "print (f'{x_list = }')\n",
    "\n",
    "x_list.append([10,11])\n",
    "print(f'{x_list = }')\n",
    "\n",
    "\n",
    "x_list.insert(3, 3.5)\n",
    "print(f'{x_list = }')\n",
    "\n",
    "x_list.remove(3.5)\n",
    "print(f'{x_list = }')\n",
    "\n",
    "x_list.pop()\n",
    "print(f'{x_list = }')\n",
    "\n",
    "x_list.pop(7)\n",
    "print(f'{x_list = }')\n",
    "\n",
    "x_list.clear() \n",
    "print(f'{x_list = }')\n",
    "\n",
    "del x_list\n",
    "\n",
    "try:\n",
    "    print(f'{x_list = }')\n",
    "except NameError as e:\n",
    "    print(f'Error: {e}')"
   ]
  },
  {
   "cell_type": "code",
   "execution_count": 23,
   "id": "ede5b782",
   "metadata": {},
   "outputs": [
    {
     "name": "stdout",
     "output_type": "stream",
     "text": [
      "Hello \tPython! \n",
      "My \tname \tis \tPython. \n",
      "I \tam \ta \tPython \tDeveloper.\n"
     ]
    }
   ],
   "source": [
    "\n",
    "string = 'Hello \\tPython! \\nMy \\tname \\tis \\tPython. \\nI \\tam \\ta \\tPython \\tDeveloper.'\n",
    "print(string)"
   ]
  },
  {
   "cell_type": "code",
   "execution_count": 24,
   "id": "ec8f38ab",
   "metadata": {},
   "outputs": [
    {
     "name": "stdout",
     "output_type": "stream",
     "text": [
      "\n",
      "인덱싱(포인트)\n",
      "string[0]='H'\n",
      "string[3]='l'\n",
      "string[-1]='.'\n",
      "string[-3]='e'\n",
      "슬라이싱(구간)\n",
      "string[0:5]='Hello'\n",
      "string[6:12]='Python'\n",
      "string[:5]='Hello'\n",
      "string[6:]='Python! My name is Python. I am a Python Developer.'\n",
      "string[6:-1]='Python! My name is Python. I am a Python Developer'\n",
      "string[6:-3]='Python! My name is Python. I am a Python Develop'\n",
      "스텝(간격)\n",
      "인덱스 6부터 2칸씩 12까지\n",
      "string[6:12:2]='Pto'\n",
      "처음부터 끝까지 2칸씩\n",
      "string[::2]='HloPto!M aei yhn  maPto eeoe.'\n",
      "처음부터 끝까지 거꾸로 1칸씩\n",
      "string[:: -1]='.repoleveD nohtyP a ma I .nohtyP si eman yM !nohtyP olleH'\n",
      "string[:: -1]='.repoleveD nohtyP a ma I .nohtyP si eman yM !nohtyP olleH'\n",
      "\n"
     ]
    }
   ],
   "source": [
    "\n",
    "\n",
    "string = \"Hello Python! My name is Python. I am a Python Developer.\"\n",
    "print(f'''\n",
    "인덱싱(포인트)\n",
    "{string[0]=}\n",
    "{string[3]=}\n",
    "{string[-1]=}\n",
    "{string[-3]=}\n",
    "슬라이싱(구간)\n",
    "{string[0:5]=}\n",
    "{string[6:12]=}\n",
    "{string[:5]=}\n",
    "{string[6:]=}\n",
    "{string[6:-1]=}\n",
    "{string[6:-3]=}\n",
    "스텝(간격)\n",
    "인덱스 6부터 2칸씩 12까지\n",
    "{string[6:12:2]=}\n",
    "처음부터 끝까지 2칸씩\n",
    "{string[::2]=}\n",
    "처음부터 끝까지 거꾸로 1칸씩\n",
    "{string[:: -1]=}\n",
    "{string[:: -1]=}\n",
    "''')"
   ]
  },
  {
   "cell_type": "code",
   "execution_count": 25,
   "id": "c7272a42",
   "metadata": {},
   "outputs": [
    {
     "name": "stdout",
     "output_type": "stream",
     "text": [
      "22\n",
      "True\n",
      "True\n"
     ]
    }
   ],
   "source": [
    "string = \"2024_바이오헬스 교과목 목록.xlsx\"\n",
    "\n",
    "print(len(string))\n",
    "\n",
    "print('2024' in string)\n",
    "\n",
    "print('2023' not in string)\n"
   ]
  },
  {
   "cell_type": "code",
   "execution_count": 26,
   "id": "5f39c9c7",
   "metadata": {},
   "outputs": [],
   "source": [
    "my_dict={'key':'value'}"
   ]
  },
  {
   "cell_type": "code",
   "execution_count": 13,
   "id": "23b3217b",
   "metadata": {},
   "outputs": [
    {
     "name": "stdout",
     "output_type": "stream",
     "text": [
      "my_dict1 = {'name': 'Max', 'age': 20, 'height': 175.5}\n",
      "my_dict2 = {'name': 'Max', 'age': 20, 'height': 175.5}\n",
      "my_dict3 = {'name': 'Max', 'age': 20, 'height': 175.5}\n"
     ]
    }
   ],
   "source": [
    "my_dict1={'name':'Max', 'age': 20, 'height': 175.5}\n",
    "\n",
    "my_dict2=dict(name='Max', age= 20, height=175.5)\n",
    "\n",
    "my_dict3=dict([('name', 'Max'), ('age', 20), ('height', 175.5)])\n",
    "\n",
    "print(f'{my_dict1 = }')\n",
    "print(f'{my_dict2 = }')  \n",
    "print(f'{my_dict3 = }')   "
   ]
  },
  {
   "cell_type": "code",
   "execution_count": 14,
   "id": "4c6b39d0",
   "metadata": {},
   "outputs": [
    {
     "name": "stdout",
     "output_type": "stream",
     "text": [
      "my_dict4 = {'name': 'Max', 'age': 20, 'height': 175.5}\n"
     ]
    }
   ],
   "source": [
    "person_keys=['name', 'age', 'height']\n",
    "Person_values=['Max', 20, 175.5]\n",
    "\n",
    "my_dict4=dict(zip(person_keys, Person_values))\n",
    "print(f'{my_dict4 = }')\n"
   ]
  },
  {
   "cell_type": "code",
   "execution_count": 15,
   "id": "37673d07",
   "metadata": {},
   "outputs": [
    {
     "name": "stdout",
     "output_type": "stream",
     "text": [
      "my_dict_dict = {'A': {'name': 'Max', 'age': 20, 'height': 175.5}, 'B': {'name': 'John', 'age': 25, 'height': 180.0}}\n"
     ]
    }
   ],
   "source": [
    "my_dict_dict={'A':{'name':'Max', 'age': 20, 'height': 175.5}, 'B':{'name':'John', 'age': 25, 'height': 180.0}}\n",
    "print(f'{my_dict_dict = }')"
   ]
  },
  {
   "cell_type": "code",
   "execution_count": 16,
   "id": "475c9af1",
   "metadata": {},
   "outputs": [
    {
     "name": "stdout",
     "output_type": "stream",
     "text": [
      "{'A': {'age': 20, 'height': 175.5, 'name': 'Max'},\n",
      " 'B': {'age': 25, 'height': 180.0, 'name': 'John'}}\n"
     ]
    }
   ],
   "source": [
    "from pprint import pprint\n",
    "pprint(my_dict_dict)"
   ]
  },
  {
   "cell_type": "code",
   "execution_count": null,
   "id": "55b92ad4",
   "metadata": {},
   "outputs": [
    {
     "name": "stdout",
     "output_type": "stream",
     "text": [
      "type(my_dict1) = <class 'dict'>\n",
      "len(my_dict1) = 3\n",
      "True\n",
      "False\n"
     ]
    }
   ],
   "source": [
    "print(f'{type(my_dict1) = }')\n",
    "\n",
    "print(f'{len(my_dict1) = }')\n",
    "\n",
    "print('name' in my_dict1)\n",
    "\n",
    "print('Max' in my_dict1)"
   ]
  },
  {
   "cell_type": "code",
   "execution_count": 18,
   "id": "65c0fe04",
   "metadata": {},
   "outputs": [
    {
     "name": "stdout",
     "output_type": "stream",
     "text": [
      "my_dict1[\"name\"] = 'Max'\n",
      "Error: 'name2'\n"
     ]
    }
   ],
   "source": [
    "print(f'{my_dict1[\"name\"] = }')\n",
    "\n",
    "try:\n",
    "    print(f'{my_dict1[\"name2\"] = }')\n",
    "except KeyError as e:\n",
    "    print(f'Error: {e}')"
   ]
  },
  {
   "cell_type": "code",
   "execution_count": 19,
   "id": "741c76a7",
   "metadata": {},
   "outputs": [
    {
     "name": "stdout",
     "output_type": "stream",
     "text": [
      "my_dict_dict[\"A\"][\"name\"] = 'Max'\n"
     ]
    }
   ],
   "source": [
    "print(f'{my_dict_dict[\"A\"][\"name\"] = }')"
   ]
  },
  {
   "cell_type": "code",
   "execution_count": 21,
   "id": "9097e766",
   "metadata": {},
   "outputs": [
    {
     "name": "stdout",
     "output_type": "stream",
     "text": [
      "my_dict1.get(\"name\") = 'Max'\n",
      "my_dict1.get(\"name2\") = None\n",
      "my_dict1.get(\"name2\", \"replcement\") = 'replcement'\n"
     ]
    }
   ],
   "source": [
    "print(f'{my_dict1.get(\"name\") = }')\n",
    "print(f'{my_dict1.get(\"name2\") = }')\n",
    "print(f'{my_dict1.get(\"name2\", \"replcement\") = }')"
   ]
  },
  {
   "cell_type": "code",
   "execution_count": 23,
   "id": "5474e285",
   "metadata": {},
   "outputs": [
    {
     "name": "stdout",
     "output_type": "stream",
     "text": [
      "my_dict1 = {'name': 'Max', 'age': 20, 'height': 175.5}\n",
      "my_dict1 = {'name': 'Max', 'age': 20, 'height': 175.5, 'id': '123'}\n"
     ]
    }
   ],
   "source": [
    "print(f'{my_dict1 = }')\n",
    "my_dict1['id']='123'\n",
    "print(f'{my_dict1 = }')"
   ]
  },
  {
   "cell_type": "code",
   "execution_count": 24,
   "id": "da76f775",
   "metadata": {},
   "outputs": [
    {
     "name": "stdout",
     "output_type": "stream",
     "text": [
      "my_dict1 = {'name': 'Max', 'age': 20, 'height': 175.5}\n"
     ]
    }
   ],
   "source": [
    "del my_dict1['id']\n",
    "print(f'{my_dict1 = }')"
   ]
  },
  {
   "cell_type": "code",
   "execution_count": 29,
   "id": "2dfdce63",
   "metadata": {},
   "outputs": [
    {
     "name": "stdout",
     "output_type": "stream",
     "text": [
      "my_dict1 = {'name': 'Max', 'age': 30, 'height': 175.5}\n"
     ]
    }
   ],
   "source": [
    "my_dict1['age'] = 30\n",
    "print(f'{my_dict1 = }')"
   ]
  },
  {
   "cell_type": "code",
   "execution_count": 30,
   "id": "ded6eb26",
   "metadata": {},
   "outputs": [
    {
     "name": "stdout",
     "output_type": "stream",
     "text": [
      "my_dict1 = {'name': 'Max', 'age': 40, 'height': 175.5, 'id': 123, 'occupation': 'data scientist'}\n"
     ]
    }
   ],
   "source": [
    "my_dict1.update(age=40, id=123, occupation='data scientist')\n",
    "print(f'{my_dict1 = }')"
   ]
  },
  {
   "cell_type": "code",
   "execution_count": 31,
   "id": "97ff555a",
   "metadata": {},
   "outputs": [
    {
     "name": "stdout",
     "output_type": "stream",
     "text": [
      "my_dict1 = {'name': 'Max', 'age': 50, 'height': 175.5, 'id': 123, 'occupation': 'data scientist', 'affiliation': 'Hongik university'}\n"
     ]
    }
   ],
   "source": [
    "my_dict_more={'age':50, 'affiliation':'Hongik university'}\n",
    "my_dict1.update(my_dict_more)\n",
    "print(f'{my_dict1 = }')"
   ]
  },
  {
   "cell_type": "code",
   "execution_count": 32,
   "id": "5cb0bf2a",
   "metadata": {},
   "outputs": [
    {
     "name": "stdout",
     "output_type": "stream",
     "text": [
      "my_dict1 = {'name': 'Max', 'age': 50, 'height': 175.5, 'id': 123, 'occupation': 'data scientist'}\n"
     ]
    }
   ],
   "source": [
    "my_dict1.pop('affiliation')\n",
    "print(f'{my_dict1 = }')\n"
   ]
  },
  {
   "cell_type": "code",
   "execution_count": 33,
   "id": "1cd5c7da",
   "metadata": {},
   "outputs": [
    {
     "name": "stdout",
     "output_type": "stream",
     "text": [
      "my_dict1={'name': 'Max', 'age': 50, 'height': 175.5, 'id': 123}\n",
      "occupation = 'data scientist'\n"
     ]
    }
   ],
   "source": [
    "occupation=my_dict1.pop('occupation')\n",
    "print(f'{my_dict1=}\\n{occupation = }')"
   ]
  },
  {
   "cell_type": "code",
   "execution_count": 34,
   "id": "d41aa558",
   "metadata": {},
   "outputs": [
    {
     "name": "stdout",
     "output_type": "stream",
     "text": [
      "Error: 'occupation'\n",
      "occupation = 'unknown'\n"
     ]
    }
   ],
   "source": [
    "try:\n",
    "    print(my_dict1.pop('occupation'))\n",
    "except KeyError as e:\n",
    "    print(f'Error: {e}')\n",
    "\n",
    "occupation=my_dict1.pop('occupation', 'unknown')\n",
    "print(f'{occupation = }')"
   ]
  },
  {
   "cell_type": "code",
   "execution_count": 35,
   "id": "49c7eaa7",
   "metadata": {},
   "outputs": [
    {
     "name": "stdout",
     "output_type": "stream",
     "text": [
      "my_dict1 = {'name': 'Max', 'age': 50, 'height': 175.5, 'id': 123}\n",
      "my_dict1 = {'name': 'Max', 'age': 50, 'height': 175.5}\n",
      "last = ('id', 123)\n",
      "my_dict1 = {'name': 'Max', 'age': 50}\n",
      "last = ('height', 175.5)\n"
     ]
    }
   ],
   "source": [
    "print(f'{my_dict1 = }')\n",
    "\n",
    "last=my_dict1.popitem()\n",
    "print(f'{my_dict1 = }\\n{last = }')\n",
    "\n",
    "last=my_dict1.popitem()\n",
    "print(f'{my_dict1 = }\\n{last = }')"
   ]
  },
  {
   "cell_type": "code",
   "execution_count": 36,
   "id": "3337ba1b",
   "metadata": {},
   "outputs": [
    {
     "name": "stdout",
     "output_type": "stream",
     "text": [
      "my_dict1 = {}\n"
     ]
    }
   ],
   "source": [
    "my_dict1.clear()\n",
    "print(f'{my_dict1 = }')"
   ]
  },
  {
   "cell_type": "code",
   "execution_count": 27,
   "id": "5dc7c968",
   "metadata": {},
   "outputs": [
    {
     "name": "stdout",
     "output_type": "stream",
     "text": [
      "조건이 참입니다\n",
      "조건문이 종료되었습니다\n"
     ]
    }
   ],
   "source": [
    "#C321079 김동하 파이썬프로그래밍 제어문\n",
    "#기본\n",
    "\n",
    "if True :\n",
    "    print('조건이 참입니다')\n",
    "\n",
    "print('조건문이 종료되었습니다')\n"
   ]
  },
  {
   "cell_type": "code",
   "execution_count": 28,
   "id": "90667c1c",
   "metadata": {},
   "outputs": [
    {
     "name": "stdout",
     "output_type": "stream",
     "text": [
      "부자\n"
     ]
    }
   ],
   "source": [
    "money=1000\n",
    "\n",
    "if money <= 500:\n",
    "    print('거지')\n",
    "else:\n",
    "    print('부자') "
   ]
  },
  {
   "cell_type": "code",
   "execution_count": 29,
   "id": "9d05382d",
   "metadata": {},
   "outputs": [
    {
     "name": "stdout",
     "output_type": "stream",
     "text": [
      "버스탄다.\n"
     ]
    }
   ],
   "source": [
    "money = 1000\n",
    "\n",
    "if money <= 500:\n",
    "    print('걸어간다.')\n",
    "elif money <= 2500:\n",
    "    print('버스탄다.')\n",
    "else:\n",
    "    print('택시탄다.')"
   ]
  },
  {
   "cell_type": "code",
   "execution_count": 30,
   "id": "45bbe1a3",
   "metadata": {},
   "outputs": [
    {
     "name": "stdout",
     "output_type": "stream",
     "text": [
      "n= 0\n",
      "n= 1\n",
      "n= 2\n",
      "n= 3\n",
      "n= 4\n"
     ]
    }
   ],
   "source": [
    "n=0\n",
    "while n<5:\n",
    "    print('n=',n)\n",
    "    n+=1\n"
   ]
  },
  {
   "cell_type": "code",
   "execution_count": 31,
   "id": "e1e735bd",
   "metadata": {},
   "outputs": [
    {
     "name": "stdout",
     "output_type": "stream",
     "text": [
      "n= 0\n",
      "n= 1\n",
      "n= 2\n",
      "n= 3\n",
      "n= 4\n"
     ]
    }
   ],
   "source": [
    "for n in range(0,5):\n",
    "    print('n=',n)"
   ]
  },
  {
   "cell_type": "code",
   "execution_count": 32,
   "id": "8af3764a",
   "metadata": {},
   "outputs": [
    {
     "name": "stdout",
     "output_type": "stream",
     "text": [
      "i = 1\n",
      "i = 2\n",
      "i = 3\n",
      "i = 4\n",
      "i = 5\n"
     ]
    }
   ],
   "source": [
    "x_list = [1, 2, 3, 4, 5]\n",
    "\n",
    "for i in x_list:\n",
    "    print(f'{i = }')"
   ]
  },
  {
   "cell_type": "code",
   "execution_count": 33,
   "id": "26a59dfb",
   "metadata": {},
   "outputs": [
    {
     "name": "stdout",
     "output_type": "stream",
     "text": [
      "<built-in function len>(x) = 5\n",
      "<built-in function sum>(x) = 150\n",
      "<built-in function min>(x) = 10\n",
      "<built-in function max>(x) = 50\n"
     ]
    }
   ],
   "source": [
    "x=[10,20,30,40,50]\n",
    "\n",
    "for method in [len, sum, min, max]:\n",
    "    print(f'{method}(x) = {method(x)}')"
   ]
  },
  {
   "cell_type": "code",
   "execution_count": 34,
   "id": "e77081c4",
   "metadata": {},
   "outputs": [
    {
     "name": "stdout",
     "output_type": "stream",
     "text": [
      "(0, 'a')\n",
      "(1, 'b')\n",
      "(2, 'c')\n"
     ]
    }
   ],
   "source": [
    "for item in enumerate(['a', 'b', 'c']):\n",
    "    print(item)\n",
    "   "
   ]
  },
  {
   "cell_type": "code",
   "execution_count": 35,
   "id": "afb6a836",
   "metadata": {},
   "outputs": [
    {
     "data": {
      "text/plain": [
       "<zip at 0x25124f49100>"
      ]
     },
     "execution_count": 35,
     "metadata": {},
     "output_type": "execute_result"
    }
   ],
   "source": [
    "x_list = [1, 2, 3, 4, 5,6,7,8,9,10,11]\n",
    "y_tuple = (1, 2, 3, 4, 5,6,7,8,9,10,11)\n",
    "z_str = 'Hello World!'\n",
    "\n",
    "zip(x_list, y_tuple, z_str)"
   ]
  },
  {
   "cell_type": "code",
   "execution_count": 36,
   "id": "5b7aca88",
   "metadata": {},
   "outputs": [
    {
     "data": {
      "text/plain": [
       "[(1, 1, 'H'),\n",
       " (2, 2, 'e'),\n",
       " (3, 3, 'l'),\n",
       " (4, 4, 'l'),\n",
       " (5, 5, 'o'),\n",
       " (6, 6, ' '),\n",
       " (7, 7, 'W'),\n",
       " (8, 8, 'o'),\n",
       " (9, 9, 'r'),\n",
       " (10, 10, 'l'),\n",
       " (11, 11, 'd')]"
      ]
     },
     "execution_count": 36,
     "metadata": {},
     "output_type": "execute_result"
    }
   ],
   "source": [
    "list(zip(x_list, y_tuple, z_str))\n"
   ]
  },
  {
   "cell_type": "code",
   "execution_count": 37,
   "id": "95d8e05d",
   "metadata": {},
   "outputs": [
    {
     "name": "stdout",
     "output_type": "stream",
     "text": [
      "x = 1, y = 1, z = 'H'\n",
      "x = 2, y = 2, z = 'e'\n",
      "x = 3, y = 3, z = 'l'\n",
      "x = 4, y = 4, z = 'l'\n",
      "x = 5, y = 5, z = 'o'\n",
      "x = 6, y = 6, z = ' '\n",
      "x = 7, y = 7, z = 'W'\n",
      "x = 8, y = 8, z = 'o'\n",
      "x = 9, y = 9, z = 'r'\n",
      "x = 10, y = 10, z = 'l'\n",
      "x = 11, y = 11, z = 'd'\n"
     ]
    }
   ],
   "source": [
    "for x, y, z in zip(x_list, y_tuple, z_str):\n",
    "    print(f'{x = }, {y = }, {z = }')"
   ]
  },
  {
   "cell_type": "code",
   "execution_count": 38,
   "id": "d60a7964",
   "metadata": {},
   "outputs": [
    {
     "name": "stdout",
     "output_type": "stream",
     "text": [
      "i = 0, item = 'a'\n"
     ]
    }
   ],
   "source": [
    "for i, item in enumerate(['a', 'b', 'c']):\n",
    "    if i == 1:\n",
    "        break\n",
    "\n",
    "    print(f'{i = }, {item = }')"
   ]
  },
  {
   "cell_type": "code",
   "execution_count": 39,
   "id": "aa1846d3",
   "metadata": {},
   "outputs": [
    {
     "name": "stdout",
     "output_type": "stream",
     "text": [
      "i = 0, item = 'a'\n",
      "i = 2, item = 'c'\n"
     ]
    }
   ],
   "source": [
    "for i, item in enumerate(['a', 'b', 'c']):\n",
    "    if i == 1:\n",
    "        continue\n",
    "\n",
    "    print(f'{i = }, {item = }')"
   ]
  },
  {
   "cell_type": "code",
   "execution_count": 40,
   "id": "2a777c93",
   "metadata": {},
   "outputs": [
    {
     "name": "stdout",
     "output_type": "stream",
     "text": [
      "i = 0, item = 'a'\n",
      "i = 1, item = 'b'\n",
      "i = 2, item = 'c'\n"
     ]
    }
   ],
   "source": [
    "for i, item in enumerate(['a', 'b', 'c']):\n",
    "    if i == 3:\n",
    "        pass\n",
    "\n",
    "    print(f'{i = }, {item = }')"
   ]
  },
  {
   "cell_type": "code",
   "execution_count": 1,
   "id": "20736afc",
   "metadata": {},
   "outputs": [
    {
     "name": "stdout",
     "output_type": "stream",
     "text": [
      "종료\n"
     ]
    }
   ],
   "source": [
    "for i, item in enumerate(['a', 'b', 'c']):\n",
    "    if i == 2:\n",
    "        #exit()\n",
    "        print('종료')\n",
    "\n"
   ]
  },
  {
   "cell_type": "code",
   "execution_count": 4,
   "id": "02ebddb6",
   "metadata": {},
   "outputs": [
    {
     "name": "stdout",
     "output_type": "stream",
     "text": [
      "1X1 =  1\t1X2 =  2\t1X3 =  3\t1X4 =  4\t1X5 =  5\t1X6 =  6\t1X7 =  7\t1X8 =  8\t1X9 =  9\t\n",
      "2X1 =  2\t2X2 =  4\t2X3 =  6\t2X4 =  8\t2X5 = 10\t2X6 = 12\t2X7 = 14\t2X8 = 16\t2X9 = 18\t\n",
      "3X1 =  3\t3X2 =  6\t3X3 =  9\t3X4 = 12\t3X5 = 15\t3X6 = 18\t3X7 = 21\t3X8 = 24\t3X9 = 27\t\n",
      "4X1 =  4\t4X2 =  8\t4X3 = 12\t4X4 = 16\t4X5 = 20\t4X6 = 24\t4X7 = 28\t4X8 = 32\t4X9 = 36\t\n",
      "5X1 =  5\t5X2 = 10\t5X3 = 15\t5X4 = 20\t5X5 = 25\t5X6 = 30\t5X7 = 35\t5X8 = 40\t5X9 = 45\t\n",
      "6X1 =  6\t6X2 = 12\t6X3 = 18\t6X4 = 24\t6X5 = 30\t6X6 = 36\t6X7 = 42\t6X8 = 48\t6X9 = 54\t\n",
      "7X1 =  7\t7X2 = 14\t7X3 = 21\t7X4 = 28\t7X5 = 35\t7X6 = 42\t7X7 = 49\t7X8 = 56\t7X9 = 63\t\n",
      "8X1 =  8\t8X2 = 16\t8X3 = 24\t8X4 = 32\t8X5 = 40\t8X6 = 48\t8X7 = 56\t8X8 = 64\t8X9 = 72\t\n",
      "9X1 =  9\t9X2 = 18\t9X3 = 27\t9X4 = 36\t9X5 = 45\t9X6 = 54\t9X7 = 63\t9X8 = 72\t9X9 = 81\t\n"
     ]
    }
   ],
   "source": [
    "for i in range(1,10):\n",
    "    for j in range(1,10):\n",
    "        print(f'{i}X{j} = {i*j:>2d}', end='\\t')\n",
    "\n",
    "        if j == 9:\n",
    "            print()"
   ]
  },
  {
   "cell_type": "code",
   "execution_count": 7,
   "id": "7286add8",
   "metadata": {},
   "outputs": [
    {
     "name": "stdout",
     "output_type": "stream",
     "text": [
      "20x20=  400\t20x18=  360\t20x16=  320\t20x14=  280\t20x12=  240\t20x10=  200\t20x8=  160\t20x6=  120\t20x4=   80\t20x2=   40\t\n",
      "18x20=  360\t18x18=  324\t18x16=  288\t18x14=  252\t18x12=  216\t18x10=  180\t18x8=  144\t18x6=  108\t18x4=   72\t18x2=   36\t\n",
      "16x20=  320\t16x18=  288\t16x16=  256\t16x14=  224\t16x12=  192\t16x10=  160\t16x8=  128\t16x6=   96\t16x4=   64\t16x2=   32\t\n",
      "14x20=  280\t14x18=  252\t14x16=  224\t14x14=  196\t14x12=  168\t14x10=  140\t14x8=  112\t14x6=   84\t14x4=   56\t14x2=   28\t\n",
      "12x20=  240\t12x18=  216\t12x16=  192\t12x14=  168\t12x12=  144\t12x10=  120\t12x8=   96\t12x6=   72\t12x4=   48\t12x2=   24\t\n",
      "10x20=  200\t10x18=  180\t10x16=  160\t10x14=  140\t10x12=  120\t10x10=  100\t10x8=   80\t10x6=   60\t10x4=   40\t10x2=   20\t\n",
      "8x20=  160\t8x18=  144\t8x16=  128\t8x14=  112\t8x12=   96\t8x10=   80\t8x8=   64\t8x6=   48\t8x4=   32\t8x2=   16\t\n",
      "6x20=  120\t6x18=  108\t6x16=   96\t6x14=   84\t6x12=   72\t6x10=   60\t6x8=   48\t6x6=   36\t6x4=   24\t6x2=   12\t\n",
      "4x20=   80\t4x18=   72\t4x16=   64\t4x14=   56\t4x12=   48\t4x10=   40\t4x8=   32\t4x6=   24\t4x4=   16\t4x2=    8\t\n",
      "2x20=   40\t2x18=   36\t2x16=   32\t2x14=   28\t2x12=   24\t2x10=   20\t2x8=   16\t2x6=   12\t2x4=    8\t2x2=    4\t\n"
     ]
    }
   ],
   "source": [
    "for i in range(20, 0, -2):\n",
    "    \n",
    "    for j in range(20, 0, -2):\n",
    "        \n",
    "        print(f'{i}x{j}={j*i:>5d}', end='\\t')\n",
    "        if j == 2:\n",
    "            \n",
    "            print()"
   ]
  },
  {
   "cell_type": "code",
   "execution_count": null,
   "id": "b7c37588",
   "metadata": {},
   "outputs": [
    {
     "name": "stdout",
     "output_type": "stream",
     "text": [
      "김동하: X\n",
      "김태형: X\n",
      "김서영: O\n",
      "신분현: X\n"
     ]
    }
   ],
   "source": [
    "#응용 : 출석부 프로그램\n",
    "#iterable 자료형과 제어문을 사용하여 출석부 프로그램을 짜보았다.\n",
    "\n",
    "# 학생 명단 (iterable 자료형)\n",
    "student_list = [\"김동하\", \"김태형\", \"김서영\", \"김은지\", ]\n",
    "\n",
    "# 출석한 학생 이름을 입력 받기 \n",
    "input_names = input(\"출석한 학생 이름을 입력하세요 (쉼표로 구분): \")\n",
    "\n",
    "# 입력받은 문자열을 리스트로 변환 (공백 제거도 함께 처리)\n",
    "attendance = [name.strip() for name in input_names.split(\",\")]\n",
    "\n",
    "# 출석 결과 출력 (제어문 사용)\n",
    "for student in student_list:\n",
    "    if student in attendance:\n",
    "        print(f\"{student}: O\")\n",
    "    else:\n",
    "        print(f\"{student}: X\")"
   ]
  }
 ],
 "metadata": {
  "kernelspec": {
   "display_name": "base",
   "language": "python",
   "name": "python3"
  },
  "language_info": {
   "codemirror_mode": {
    "name": "ipython",
    "version": 3
   },
   "file_extension": ".py",
   "mimetype": "text/x-python",
   "name": "python",
   "nbconvert_exporter": "python",
   "pygments_lexer": "ipython3",
   "version": "3.12.8"
  }
 },
 "nbformat": 4,
 "nbformat_minor": 5
}
